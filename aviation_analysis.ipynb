{
 "cells": [
  {
   "cell_type": "code",
   "execution_count": 1,
   "id": "5bf88d4c",
   "metadata": {},
   "outputs": [],
   "source": [
    "import numpy as np\n",
    "import pandas as pd\n",
    "import matplotlib.pyplot as plt\n",
    "import seaborn as sns"
   ]
  },
  {
   "cell_type": "code",
   "execution_count": 2,
   "id": "2c8ba46d",
   "metadata": {},
   "outputs": [
    {
     "name": "stderr",
     "output_type": "stream",
     "text": [
      "C:\\Users\\HP\\AppData\\Local\\Temp\\ipykernel_10508\\3358021668.py:2: DtypeWarning: Columns (6,7,28) have mixed types. Specify dtype option on import or set low_memory=False.\n",
      "  aviation_data = pd.read_csv('data/AviationData.csv', encoding='latin-1')\n"
     ]
    },
    {
     "data": {
      "text/html": [
       "<div>\n",
       "<style scoped>\n",
       "    .dataframe tbody tr th:only-of-type {\n",
       "        vertical-align: middle;\n",
       "    }\n",
       "\n",
       "    .dataframe tbody tr th {\n",
       "        vertical-align: top;\n",
       "    }\n",
       "\n",
       "    .dataframe thead th {\n",
       "        text-align: right;\n",
       "    }\n",
       "</style>\n",
       "<table border=\"1\" class=\"dataframe\">\n",
       "  <thead>\n",
       "    <tr style=\"text-align: right;\">\n",
       "      <th></th>\n",
       "      <th>Event.Id</th>\n",
       "      <th>Investigation.Type</th>\n",
       "      <th>Accident.Number</th>\n",
       "      <th>Event.Date</th>\n",
       "      <th>Location</th>\n",
       "      <th>Country</th>\n",
       "      <th>Latitude</th>\n",
       "      <th>Longitude</th>\n",
       "      <th>Airport.Code</th>\n",
       "      <th>Airport.Name</th>\n",
       "      <th>...</th>\n",
       "      <th>Purpose.of.flight</th>\n",
       "      <th>Air.carrier</th>\n",
       "      <th>Total.Fatal.Injuries</th>\n",
       "      <th>Total.Serious.Injuries</th>\n",
       "      <th>Total.Minor.Injuries</th>\n",
       "      <th>Total.Uninjured</th>\n",
       "      <th>Weather.Condition</th>\n",
       "      <th>Broad.phase.of.flight</th>\n",
       "      <th>Report.Status</th>\n",
       "      <th>Publication.Date</th>\n",
       "    </tr>\n",
       "  </thead>\n",
       "  <tbody>\n",
       "    <tr>\n",
       "      <th>0</th>\n",
       "      <td>20001218X45444</td>\n",
       "      <td>Accident</td>\n",
       "      <td>SEA87LA080</td>\n",
       "      <td>1948-10-24</td>\n",
       "      <td>MOOSE CREEK, ID</td>\n",
       "      <td>United States</td>\n",
       "      <td>NaN</td>\n",
       "      <td>NaN</td>\n",
       "      <td>NaN</td>\n",
       "      <td>NaN</td>\n",
       "      <td>...</td>\n",
       "      <td>Personal</td>\n",
       "      <td>NaN</td>\n",
       "      <td>2.0</td>\n",
       "      <td>0.0</td>\n",
       "      <td>0.0</td>\n",
       "      <td>0.0</td>\n",
       "      <td>UNK</td>\n",
       "      <td>Cruise</td>\n",
       "      <td>Probable Cause</td>\n",
       "      <td>NaN</td>\n",
       "    </tr>\n",
       "    <tr>\n",
       "      <th>1</th>\n",
       "      <td>20001218X45447</td>\n",
       "      <td>Accident</td>\n",
       "      <td>LAX94LA336</td>\n",
       "      <td>1962-07-19</td>\n",
       "      <td>BRIDGEPORT, CA</td>\n",
       "      <td>United States</td>\n",
       "      <td>NaN</td>\n",
       "      <td>NaN</td>\n",
       "      <td>NaN</td>\n",
       "      <td>NaN</td>\n",
       "      <td>...</td>\n",
       "      <td>Personal</td>\n",
       "      <td>NaN</td>\n",
       "      <td>4.0</td>\n",
       "      <td>0.0</td>\n",
       "      <td>0.0</td>\n",
       "      <td>0.0</td>\n",
       "      <td>UNK</td>\n",
       "      <td>Unknown</td>\n",
       "      <td>Probable Cause</td>\n",
       "      <td>19-09-1996</td>\n",
       "    </tr>\n",
       "    <tr>\n",
       "      <th>2</th>\n",
       "      <td>20061025X01555</td>\n",
       "      <td>Accident</td>\n",
       "      <td>NYC07LA005</td>\n",
       "      <td>1974-08-30</td>\n",
       "      <td>Saltville, VA</td>\n",
       "      <td>United States</td>\n",
       "      <td>36.922223</td>\n",
       "      <td>-81.878056</td>\n",
       "      <td>NaN</td>\n",
       "      <td>NaN</td>\n",
       "      <td>...</td>\n",
       "      <td>Personal</td>\n",
       "      <td>NaN</td>\n",
       "      <td>3.0</td>\n",
       "      <td>NaN</td>\n",
       "      <td>NaN</td>\n",
       "      <td>NaN</td>\n",
       "      <td>IMC</td>\n",
       "      <td>Cruise</td>\n",
       "      <td>Probable Cause</td>\n",
       "      <td>26-02-2007</td>\n",
       "    </tr>\n",
       "    <tr>\n",
       "      <th>3</th>\n",
       "      <td>20001218X45448</td>\n",
       "      <td>Accident</td>\n",
       "      <td>LAX96LA321</td>\n",
       "      <td>1977-06-19</td>\n",
       "      <td>EUREKA, CA</td>\n",
       "      <td>United States</td>\n",
       "      <td>NaN</td>\n",
       "      <td>NaN</td>\n",
       "      <td>NaN</td>\n",
       "      <td>NaN</td>\n",
       "      <td>...</td>\n",
       "      <td>Personal</td>\n",
       "      <td>NaN</td>\n",
       "      <td>2.0</td>\n",
       "      <td>0.0</td>\n",
       "      <td>0.0</td>\n",
       "      <td>0.0</td>\n",
       "      <td>IMC</td>\n",
       "      <td>Cruise</td>\n",
       "      <td>Probable Cause</td>\n",
       "      <td>12-09-2000</td>\n",
       "    </tr>\n",
       "    <tr>\n",
       "      <th>4</th>\n",
       "      <td>20041105X01764</td>\n",
       "      <td>Accident</td>\n",
       "      <td>CHI79FA064</td>\n",
       "      <td>1979-08-02</td>\n",
       "      <td>Canton, OH</td>\n",
       "      <td>United States</td>\n",
       "      <td>NaN</td>\n",
       "      <td>NaN</td>\n",
       "      <td>NaN</td>\n",
       "      <td>NaN</td>\n",
       "      <td>...</td>\n",
       "      <td>Personal</td>\n",
       "      <td>NaN</td>\n",
       "      <td>1.0</td>\n",
       "      <td>2.0</td>\n",
       "      <td>NaN</td>\n",
       "      <td>0.0</td>\n",
       "      <td>VMC</td>\n",
       "      <td>Approach</td>\n",
       "      <td>Probable Cause</td>\n",
       "      <td>16-04-1980</td>\n",
       "    </tr>\n",
       "  </tbody>\n",
       "</table>\n",
       "<p>5 rows × 31 columns</p>\n",
       "</div>"
      ],
      "text/plain": [
       "         Event.Id Investigation.Type Accident.Number  Event.Date  \\\n",
       "0  20001218X45444           Accident      SEA87LA080  1948-10-24   \n",
       "1  20001218X45447           Accident      LAX94LA336  1962-07-19   \n",
       "2  20061025X01555           Accident      NYC07LA005  1974-08-30   \n",
       "3  20001218X45448           Accident      LAX96LA321  1977-06-19   \n",
       "4  20041105X01764           Accident      CHI79FA064  1979-08-02   \n",
       "\n",
       "          Location        Country   Latitude  Longitude Airport.Code  \\\n",
       "0  MOOSE CREEK, ID  United States        NaN        NaN          NaN   \n",
       "1   BRIDGEPORT, CA  United States        NaN        NaN          NaN   \n",
       "2    Saltville, VA  United States  36.922223 -81.878056          NaN   \n",
       "3       EUREKA, CA  United States        NaN        NaN          NaN   \n",
       "4       Canton, OH  United States        NaN        NaN          NaN   \n",
       "\n",
       "  Airport.Name  ... Purpose.of.flight Air.carrier Total.Fatal.Injuries  \\\n",
       "0          NaN  ...          Personal         NaN                  2.0   \n",
       "1          NaN  ...          Personal         NaN                  4.0   \n",
       "2          NaN  ...          Personal         NaN                  3.0   \n",
       "3          NaN  ...          Personal         NaN                  2.0   \n",
       "4          NaN  ...          Personal         NaN                  1.0   \n",
       "\n",
       "  Total.Serious.Injuries Total.Minor.Injuries Total.Uninjured  \\\n",
       "0                    0.0                  0.0             0.0   \n",
       "1                    0.0                  0.0             0.0   \n",
       "2                    NaN                  NaN             NaN   \n",
       "3                    0.0                  0.0             0.0   \n",
       "4                    2.0                  NaN             0.0   \n",
       "\n",
       "  Weather.Condition  Broad.phase.of.flight   Report.Status Publication.Date  \n",
       "0               UNK                 Cruise  Probable Cause              NaN  \n",
       "1               UNK                Unknown  Probable Cause       19-09-1996  \n",
       "2               IMC                 Cruise  Probable Cause       26-02-2007  \n",
       "3               IMC                 Cruise  Probable Cause       12-09-2000  \n",
       "4               VMC               Approach  Probable Cause       16-04-1980  \n",
       "\n",
       "[5 rows x 31 columns]"
      ]
     },
     "execution_count": 2,
     "metadata": {},
     "output_type": "execute_result"
    }
   ],
   "source": [
    "# Read the datasets into pandas DataFrames\n",
    "aviation_data = pd.read_csv('data/AviationData.csv', encoding='latin-1')\n",
    "state_codes = pd.read_csv('data/USState_Codes.csv')\n",
    "aviation_data.head()"
   ]
  },
  {
   "cell_type": "code",
   "execution_count": 3,
   "id": "a3d2ec2a",
   "metadata": {},
   "outputs": [
    {
     "name": "stdout",
     "output_type": "stream",
     "text": [
      "<class 'pandas.core.frame.DataFrame'>\n",
      "RangeIndex: 88889 entries, 0 to 88888\n",
      "Data columns (total 31 columns):\n",
      " #   Column                  Non-Null Count  Dtype  \n",
      "---  ------                  --------------  -----  \n",
      " 0   Event.Id                88889 non-null  object \n",
      " 1   Investigation.Type      88889 non-null  object \n",
      " 2   Accident.Number         88889 non-null  object \n",
      " 3   Event.Date              88889 non-null  object \n",
      " 4   Location                88837 non-null  object \n",
      " 5   Country                 88663 non-null  object \n",
      " 6   Latitude                34382 non-null  object \n",
      " 7   Longitude               34373 non-null  object \n",
      " 8   Airport.Code            50132 non-null  object \n",
      " 9   Airport.Name            52704 non-null  object \n",
      " 10  Injury.Severity         87889 non-null  object \n",
      " 11  Aircraft.damage         85695 non-null  object \n",
      " 12  Aircraft.Category       32287 non-null  object \n",
      " 13  Registration.Number     87507 non-null  object \n",
      " 14  Make                    88826 non-null  object \n",
      " 15  Model                   88797 non-null  object \n",
      " 16  Amateur.Built           88787 non-null  object \n",
      " 17  Number.of.Engines       82805 non-null  float64\n",
      " 18  Engine.Type             81793 non-null  object \n",
      " 19  FAR.Description         32023 non-null  object \n",
      " 20  Schedule                12582 non-null  object \n",
      " 21  Purpose.of.flight       82697 non-null  object \n",
      " 22  Air.carrier             16648 non-null  object \n",
      " 23  Total.Fatal.Injuries    77488 non-null  float64\n",
      " 24  Total.Serious.Injuries  76379 non-null  float64\n",
      " 25  Total.Minor.Injuries    76956 non-null  float64\n",
      " 26  Total.Uninjured         82977 non-null  float64\n",
      " 27  Weather.Condition       84397 non-null  object \n",
      " 28  Broad.phase.of.flight   61724 non-null  object \n",
      " 29  Report.Status           82505 non-null  object \n",
      " 30  Publication.Date        75118 non-null  object \n",
      "dtypes: float64(5), object(26)\n",
      "memory usage: 21.0+ MB\n"
     ]
    }
   ],
   "source": [
    "aviation_data.info()"
   ]
  },
  {
   "cell_type": "code",
   "execution_count": 4,
   "id": "3c306665",
   "metadata": {},
   "outputs": [
    {
     "data": {
      "text/plain": [
       "Index(['event_id', 'investigation_type', 'accident_number', 'event_date',\n",
       "       'location', 'country', 'latitude', 'longitude', 'airport_code',\n",
       "       'airport_name', 'injury_severity', 'aircraft_damage',\n",
       "       'aircraft_category', 'registration_number', 'make', 'model',\n",
       "       'amateur_built', 'number_of_engines', 'engine_type', 'far_description',\n",
       "       'schedule', 'purpose_of_flight', 'air_carrier', 'total_fatal_injuries',\n",
       "       'total_serious_injuries', 'total_minor_injuries', 'total_uninjured',\n",
       "       'weather_condition', 'broad_phase_of_flight', 'report_status',\n",
       "       'publication_date'],\n",
       "      dtype='object')"
      ]
     },
     "execution_count": 4,
     "metadata": {},
     "output_type": "execute_result"
    }
   ],
   "source": [
    "aviation_data.columns = aviation_data.columns.str.lower().str.replace('.', '_', regex=False)\n",
    "aviation_data.columns"
   ]
  },
  {
   "cell_type": "code",
   "execution_count": 5,
   "id": "a3c92140",
   "metadata": {},
   "outputs": [
    {
     "data": {
      "text/plain": [
       "event_id                      0\n",
       "investigation_type            0\n",
       "accident_number               0\n",
       "event_date                    0\n",
       "location                     52\n",
       "country                     226\n",
       "latitude                  54507\n",
       "longitude                 54516\n",
       "airport_code              38757\n",
       "airport_name              36185\n",
       "injury_severity            1000\n",
       "aircraft_damage            3194\n",
       "aircraft_category         56602\n",
       "registration_number        1382\n",
       "make                         63\n",
       "model                        92\n",
       "amateur_built               102\n",
       "number_of_engines          6084\n",
       "engine_type                7096\n",
       "far_description           56866\n",
       "schedule                  76307\n",
       "purpose_of_flight          6192\n",
       "air_carrier               72241\n",
       "total_fatal_injuries      11401\n",
       "total_serious_injuries    12510\n",
       "total_minor_injuries      11933\n",
       "total_uninjured            5912\n",
       "weather_condition          4492\n",
       "broad_phase_of_flight     27165\n",
       "report_status              6384\n",
       "publication_date          13771\n",
       "dtype: int64"
      ]
     },
     "execution_count": 5,
     "metadata": {},
     "output_type": "execute_result"
    }
   ],
   "source": [
    "aviation_data.isna().sum()"
   ]
  },
  {
   "cell_type": "code",
   "execution_count": 6,
   "id": "59a29615",
   "metadata": {},
   "outputs": [
    {
     "data": {
      "text/plain": [
       "aircraft_category\n",
       "Airplane             27617\n",
       "Helicopter            3440\n",
       "Glider                 508\n",
       "Balloon                231\n",
       "Gyrocraft              173\n",
       "Weight-Shift           161\n",
       "Powered Parachute       91\n",
       "Ultralight              30\n",
       "Unknown                 14\n",
       "WSFT                     9\n",
       "Powered-Lift             5\n",
       "Blimp                    4\n",
       "UNK                      2\n",
       "Rocket                   1\n",
       "ULTR                     1\n",
       "Name: count, dtype: int64"
      ]
     },
     "execution_count": 6,
     "metadata": {},
     "output_type": "execute_result"
    }
   ],
   "source": [
    "aviation_data['aircraft_category'].value_counts()"
   ]
  },
  {
   "cell_type": "code",
   "execution_count": 7,
   "id": "bf59eebd",
   "metadata": {},
   "outputs": [],
   "source": [
    "aviation_data['aircraft_category'] = aviation_data['aircraft_category'].replace({'UNK': 'Unknown', 'ULTR': 'Ultralight'})\n",
    "\n",
    "aviation_data['aircraft_category'].fillna('Unknown', inplace=True)"
   ]
  },
  {
   "cell_type": "code",
   "execution_count": 8,
   "id": "6a695649",
   "metadata": {},
   "outputs": [
    {
     "data": {
      "text/plain": [
       "aircraft_category\n",
       "Unknown              56618\n",
       "Airplane             27617\n",
       "Helicopter            3440\n",
       "Glider                 508\n",
       "Balloon                231\n",
       "Gyrocraft              173\n",
       "Weight-Shift           161\n",
       "Powered Parachute       91\n",
       "Ultralight              31\n",
       "WSFT                     9\n",
       "Powered-Lift             5\n",
       "Blimp                    4\n",
       "Rocket                   1\n",
       "Name: count, dtype: int64"
      ]
     },
     "execution_count": 8,
     "metadata": {},
     "output_type": "execute_result"
    }
   ],
   "source": [
    "aviation_data['aircraft_category'].value_counts()"
   ]
  },
  {
   "cell_type": "code",
   "execution_count": 9,
   "id": "6f0a242b",
   "metadata": {},
   "outputs": [
    {
     "data": {
      "text/plain": [
       "investigation_type            0\n",
       "event_date                    0\n",
       "location                     52\n",
       "country                     226\n",
       "injury_severity            1000\n",
       "aircraft_damage            3194\n",
       "aircraft_category             0\n",
       "make                         63\n",
       "model                        92\n",
       "amateur_built               102\n",
       "number_of_engines          6084\n",
       "engine_type                7096\n",
       "purpose_of_flight          6192\n",
       "total_fatal_injuries      11401\n",
       "total_serious_injuries    12510\n",
       "total_minor_injuries      11933\n",
       "total_uninjured            5912\n",
       "weather_condition          4492\n",
       "broad_phase_of_flight     27165\n",
       "dtype: int64"
      ]
     },
     "execution_count": 9,
     "metadata": {},
     "output_type": "execute_result"
    }
   ],
   "source": [
    "aviation_data.drop(columns=[\n",
    "    'event_id', 'accident_number', 'latitude', 'longitude', \n",
    "    'airport_code', 'airport_name', 'registration_number', \n",
    "    'far_description', 'schedule', 'air_carrier', \n",
    "    'report_status', 'publication_date'\n",
    "], inplace=True)\n",
    "\n",
    "aviation_data.isna().sum()"
   ]
  },
  {
   "cell_type": "code",
   "execution_count": 10,
   "id": "ccecb11e",
   "metadata": {
    "scrolled": true
   },
   "outputs": [
    {
     "data": {
      "text/html": [
       "<div>\n",
       "<style scoped>\n",
       "    .dataframe tbody tr th:only-of-type {\n",
       "        vertical-align: middle;\n",
       "    }\n",
       "\n",
       "    .dataframe tbody tr th {\n",
       "        vertical-align: top;\n",
       "    }\n",
       "\n",
       "    .dataframe thead th {\n",
       "        text-align: right;\n",
       "    }\n",
       "</style>\n",
       "<table border=\"1\" class=\"dataframe\">\n",
       "  <thead>\n",
       "    <tr style=\"text-align: right;\">\n",
       "      <th></th>\n",
       "      <th>number_of_engines</th>\n",
       "      <th>total_fatal_injuries</th>\n",
       "      <th>total_serious_injuries</th>\n",
       "      <th>total_minor_injuries</th>\n",
       "      <th>total_uninjured</th>\n",
       "    </tr>\n",
       "  </thead>\n",
       "  <tbody>\n",
       "    <tr>\n",
       "      <th>count</th>\n",
       "      <td>82805.000000</td>\n",
       "      <td>77488.000000</td>\n",
       "      <td>76379.000000</td>\n",
       "      <td>76956.000000</td>\n",
       "      <td>82977.000000</td>\n",
       "    </tr>\n",
       "    <tr>\n",
       "      <th>mean</th>\n",
       "      <td>1.146585</td>\n",
       "      <td>0.647855</td>\n",
       "      <td>0.279881</td>\n",
       "      <td>0.357061</td>\n",
       "      <td>5.325440</td>\n",
       "    </tr>\n",
       "    <tr>\n",
       "      <th>std</th>\n",
       "      <td>0.446510</td>\n",
       "      <td>5.485960</td>\n",
       "      <td>1.544084</td>\n",
       "      <td>2.235625</td>\n",
       "      <td>27.913634</td>\n",
       "    </tr>\n",
       "    <tr>\n",
       "      <th>min</th>\n",
       "      <td>0.000000</td>\n",
       "      <td>0.000000</td>\n",
       "      <td>0.000000</td>\n",
       "      <td>0.000000</td>\n",
       "      <td>0.000000</td>\n",
       "    </tr>\n",
       "    <tr>\n",
       "      <th>25%</th>\n",
       "      <td>1.000000</td>\n",
       "      <td>0.000000</td>\n",
       "      <td>0.000000</td>\n",
       "      <td>0.000000</td>\n",
       "      <td>0.000000</td>\n",
       "    </tr>\n",
       "    <tr>\n",
       "      <th>50%</th>\n",
       "      <td>1.000000</td>\n",
       "      <td>0.000000</td>\n",
       "      <td>0.000000</td>\n",
       "      <td>0.000000</td>\n",
       "      <td>1.000000</td>\n",
       "    </tr>\n",
       "    <tr>\n",
       "      <th>75%</th>\n",
       "      <td>1.000000</td>\n",
       "      <td>0.000000</td>\n",
       "      <td>0.000000</td>\n",
       "      <td>0.000000</td>\n",
       "      <td>2.000000</td>\n",
       "    </tr>\n",
       "    <tr>\n",
       "      <th>max</th>\n",
       "      <td>8.000000</td>\n",
       "      <td>349.000000</td>\n",
       "      <td>161.000000</td>\n",
       "      <td>380.000000</td>\n",
       "      <td>699.000000</td>\n",
       "    </tr>\n",
       "  </tbody>\n",
       "</table>\n",
       "</div>"
      ],
      "text/plain": [
       "       number_of_engines  total_fatal_injuries  total_serious_injuries  \\\n",
       "count       82805.000000          77488.000000            76379.000000   \n",
       "mean            1.146585              0.647855                0.279881   \n",
       "std             0.446510              5.485960                1.544084   \n",
       "min             0.000000              0.000000                0.000000   \n",
       "25%             1.000000              0.000000                0.000000   \n",
       "50%             1.000000              0.000000                0.000000   \n",
       "75%             1.000000              0.000000                0.000000   \n",
       "max             8.000000            349.000000              161.000000   \n",
       "\n",
       "       total_minor_injuries  total_uninjured  \n",
       "count          76956.000000     82977.000000  \n",
       "mean               0.357061         5.325440  \n",
       "std                2.235625        27.913634  \n",
       "min                0.000000         0.000000  \n",
       "25%                0.000000         0.000000  \n",
       "50%                0.000000         1.000000  \n",
       "75%                0.000000         2.000000  \n",
       "max              380.000000       699.000000  "
      ]
     },
     "execution_count": 10,
     "metadata": {},
     "output_type": "execute_result"
    }
   ],
   "source": [
    "aviation_data.describe()"
   ]
  },
  {
   "cell_type": "code",
   "execution_count": 11,
   "id": "287cea88",
   "metadata": {},
   "outputs": [],
   "source": [
    "# Filling missing data in the 'location' column with 'Unknown'\n",
    "aviation_data['location'].fillna('Unknown', inplace=True)"
   ]
  },
  {
   "cell_type": "code",
   "execution_count": 12,
   "id": "a4bc90ae",
   "metadata": {},
   "outputs": [],
   "source": [
    "# Impute missing country values with unknown\n",
    "aviation_data['country'].fillna('Unknown', inplace=True)"
   ]
  },
  {
   "cell_type": "code",
   "execution_count": 13,
   "id": "da239891",
   "metadata": {},
   "outputs": [
    {
     "data": {
      "text/plain": [
       "make\n",
       "Cessna                            22227\n",
       "Piper                             12029\n",
       "CESSNA                             4922\n",
       "Beech                              4330\n",
       "PIPER                              2841\n",
       "Bell                               2134\n",
       "Boeing                             1594\n",
       "BOEING                             1151\n",
       "Grumman                            1094\n",
       "Mooney                             1092\n",
       "BEECH                              1042\n",
       "Robinson                            946\n",
       "Bellanca                            886\n",
       "Hughes                              795\n",
       "Schweizer                           629\n",
       "Air Tractor                         595\n",
       "BELL                                588\n",
       "Mcdonnell Douglas                   526\n",
       "Aeronca                             487\n",
       "Maule                               445\n",
       "Champion                            428\n",
       "De Havilland                        382\n",
       "Aero Commander                      360\n",
       "Stinson                             348\n",
       "Aerospatiale                        342\n",
       "Rockwell                            331\n",
       "Taylorcraft                         321\n",
       "Luscombe                            319\n",
       "Hiller                              311\n",
       "North American                      304\n",
       "ROBINSON                            284\n",
       "Douglas                             255\n",
       "AIRBUS                              251\n",
       "Enstrom                             247\n",
       "MOONEY                              242\n",
       "Grumman American                    224\n",
       "ROBINSON HELICOPTER                 221\n",
       "CIRRUS DESIGN CORP                  218\n",
       "AIR TRACTOR INC                     217\n",
       "Ayres                               215\n",
       "ROBINSON HELICOPTER COMPANY         179\n",
       "BELLANCA                            159\n",
       "Sikorsky                            156\n",
       "Ercoupe (eng & Research Corp.)      156\n",
       "Swearingen                          151\n",
       "Name: count, dtype: int64"
      ]
     },
     "execution_count": 13,
     "metadata": {},
     "output_type": "execute_result"
    }
   ],
   "source": [
    "aviation_data['make'].value_counts().head(45)"
   ]
  },
  {
   "cell_type": "code",
   "execution_count": 14,
   "id": "52ce9a09",
   "metadata": {},
   "outputs": [
    {
     "data": {
      "text/plain": [
       "engine_type\n",
       "Reciprocating      69530\n",
       "Turbo Shaft         3609\n",
       "Turbo Prop          3391\n",
       "Turbo Fan           2481\n",
       "Unknown             2051\n",
       "Turbo Jet            703\n",
       "Geared Turbofan       12\n",
       "Electric              10\n",
       "LR                     2\n",
       "NONE                   2\n",
       "Hybrid Rocket          1\n",
       "UNK                    1\n",
       "Name: count, dtype: int64"
      ]
     },
     "execution_count": 14,
     "metadata": {},
     "output_type": "execute_result"
    }
   ],
   "source": [
    "# drop 3(injury_surverity), 4(aircraft_damage), 5(make and model)\n",
    "aviation_data['engine_type'].value_counts()"
   ]
  },
  {
   "cell_type": "code",
   "execution_count": 15,
   "id": "ed0b7684",
   "metadata": {},
   "outputs": [
    {
     "data": {
      "text/plain": [
       "location             0\n",
       "country              0\n",
       "injury_severity      0\n",
       "aircraft_damage      0\n",
       "make                 0\n",
       "model                0\n",
       "amateur_built        0\n",
       "number_of_engines    0\n",
       "engine_type          0\n",
       "dtype: int64"
      ]
     },
     "execution_count": 15,
     "metadata": {},
     "output_type": "execute_result"
    }
   ],
   "source": [
    "# Impute 'location' and 'country' with 'Unknown'\n",
    "aviation_data['location'].fillna('Unknown', inplace=True)\n",
    "aviation_data['country'].fillna('Unknown', inplace=True)\n",
    "\n",
    "# Drop rows with null values in critical columns\n",
    "aviation_data.dropna(subset=['injury_severity', 'aircraft_damage', 'make', 'model'], inplace=True)\n",
    "\n",
    "# Fill 'amateur_built', 'number_of_engines', and 'engine_type' with their mode\n",
    "for column in ['amateur_built', 'number_of_engines', 'engine_type']:\n",
    "    mode_value = aviation_data[column].mode()[0]\n",
    "    aviation_data[column].fillna(mode_value, inplace=True)\n",
    "\n",
    "# Check remaining nulls in key columns\n",
    "aviation_data[['location', 'country', 'injury_severity', 'aircraft_damage', \n",
    "               'make', 'model', 'amateur_built', 'number_of_engines', \n",
    "               'engine_type']].isna().sum()\n"
   ]
  },
  {
   "cell_type": "code",
   "execution_count": 16,
   "id": "b448c601",
   "metadata": {},
   "outputs": [
    {
     "name": "stdout",
     "output_type": "stream",
     "text": [
      "<class 'pandas.core.frame.DataFrame'>\n",
      "Index: 85121 entries, 0 to 88886\n",
      "Data columns (total 19 columns):\n",
      " #   Column                  Non-Null Count  Dtype  \n",
      "---  ------                  --------------  -----  \n",
      " 0   investigation_type      85121 non-null  object \n",
      " 1   event_date              85121 non-null  object \n",
      " 2   location                85121 non-null  object \n",
      " 3   country                 85121 non-null  object \n",
      " 4   injury_severity         85121 non-null  object \n",
      " 5   aircraft_damage         85121 non-null  object \n",
      " 6   aircraft_category       85121 non-null  object \n",
      " 7   make                    85121 non-null  object \n",
      " 8   model                   85121 non-null  object \n",
      " 9   amateur_built           85121 non-null  object \n",
      " 10  number_of_engines       85121 non-null  float64\n",
      " 11  engine_type             85121 non-null  object \n",
      " 12  purpose_of_flight       81038 non-null  object \n",
      " 13  total_fatal_injuries    74223 non-null  float64\n",
      " 14  total_serious_injuries  72953 non-null  float64\n",
      " 15  total_minor_injuries    73662 non-null  float64\n",
      " 16  total_uninjured         79321 non-null  float64\n",
      " 17  weather_condition       82254 non-null  object \n",
      " 18  broad_phase_of_flight   60226 non-null  object \n",
      "dtypes: float64(5), object(14)\n",
      "memory usage: 13.0+ MB\n"
     ]
    }
   ],
   "source": [
    "aviation_data.info()"
   ]
  },
  {
   "cell_type": "code",
   "execution_count": 17,
   "id": "c8243636",
   "metadata": {},
   "outputs": [
    {
     "data": {
      "text/plain": [
       "broad_phase_of_flight\n",
       "Landing        15185\n",
       "Takeoff        12332\n",
       "Cruise          9936\n",
       "Maneuvering     8095\n",
       "Approach        6425\n",
       "Climb           1913\n",
       "Taxi            1861\n",
       "Descent         1724\n",
       "Go-around       1346\n",
       "Standing         752\n",
       "Unknown          544\n",
       "Other            113\n",
       "Name: count, dtype: int64"
      ]
     },
     "execution_count": 17,
     "metadata": {},
     "output_type": "execute_result"
    }
   ],
   "source": [
    "aviation_data['broad_phase_of_flight'].value_counts().head(25)"
   ]
  },
  {
   "cell_type": "code",
   "execution_count": 18,
   "id": "bb6fc10d",
   "metadata": {},
   "outputs": [],
   "source": [
    "aviation_data['purpose_of_flight'].fillna('Unknown', inplace=True)"
   ]
  },
  {
   "cell_type": "code",
   "execution_count": 19,
   "id": "9f5feaad",
   "metadata": {},
   "outputs": [],
   "source": [
    "aviation_data['total_fatal_injuries'].fillna(0, inplace=True)"
   ]
  },
  {
   "cell_type": "code",
   "execution_count": 20,
   "id": "2a61d961",
   "metadata": {},
   "outputs": [],
   "source": [
    "aviation_data['total_serious_injuries'].fillna(0, inplace=True)"
   ]
  },
  {
   "cell_type": "code",
   "execution_count": 21,
   "id": "63e70b12",
   "metadata": {},
   "outputs": [],
   "source": [
    "aviation_data['total_minor_injuries'].fillna(0, inplace=True)"
   ]
  },
  {
   "cell_type": "code",
   "execution_count": 22,
   "id": "7fc01d6d",
   "metadata": {},
   "outputs": [],
   "source": [
    "median_uninjured = aviation_data['total_uninjured'].median()\n",
    "aviation_data['total_uninjured'].fillna(median_uninjured, inplace=True)"
   ]
  },
  {
   "cell_type": "code",
   "execution_count": 23,
   "id": "a3c4cfd3",
   "metadata": {},
   "outputs": [],
   "source": [
    "# Standardize \"UNK\" and \"Unk\" to \"Unknown\"\n",
    "aviation_data['weather_condition'].replace(['UNK', 'Unk'], 'Unknown', inplace=True)\n",
    "\n",
    "# Impute missing values with \"Unknown\"\n",
    "aviation_data['weather_condition'].fillna('Unknown', inplace=True)\n"
   ]
  },
  {
   "cell_type": "code",
   "execution_count": 24,
   "id": "8a64b9ac",
   "metadata": {},
   "outputs": [],
   "source": [
    "aviation_data['broad_phase_of_flight'].fillna('Unknown', inplace=True)"
   ]
  },
  {
   "cell_type": "code",
   "execution_count": 25,
   "id": "a82f06c2",
   "metadata": {
    "scrolled": true
   },
   "outputs": [
    {
     "name": "stdout",
     "output_type": "stream",
     "text": [
      "<class 'pandas.core.frame.DataFrame'>\n",
      "Index: 85121 entries, 0 to 88886\n",
      "Data columns (total 19 columns):\n",
      " #   Column                  Non-Null Count  Dtype  \n",
      "---  ------                  --------------  -----  \n",
      " 0   investigation_type      85121 non-null  object \n",
      " 1   event_date              85121 non-null  object \n",
      " 2   location                85121 non-null  object \n",
      " 3   country                 85121 non-null  object \n",
      " 4   injury_severity         85121 non-null  object \n",
      " 5   aircraft_damage         85121 non-null  object \n",
      " 6   aircraft_category       85121 non-null  object \n",
      " 7   make                    85121 non-null  object \n",
      " 8   model                   85121 non-null  object \n",
      " 9   amateur_built           85121 non-null  object \n",
      " 10  number_of_engines       85121 non-null  float64\n",
      " 11  engine_type             85121 non-null  object \n",
      " 12  purpose_of_flight       85121 non-null  object \n",
      " 13  total_fatal_injuries    85121 non-null  float64\n",
      " 14  total_serious_injuries  85121 non-null  float64\n",
      " 15  total_minor_injuries    85121 non-null  float64\n",
      " 16  total_uninjured         85121 non-null  float64\n",
      " 17  weather_condition       85121 non-null  object \n",
      " 18  broad_phase_of_flight   85121 non-null  object \n",
      "dtypes: float64(5), object(14)\n",
      "memory usage: 13.0+ MB\n"
     ]
    }
   ],
   "source": [
    "aviation_data.info()"
   ]
  },
  {
   "cell_type": "code",
   "execution_count": 29,
   "id": "909415d3",
   "metadata": {},
   "outputs": [
    {
     "name": "stdout",
     "output_type": "stream",
     "text": [
      "Unique values in investigation_type - 2 values:\n",
      "['Accident' 'Incident']\n",
      "\n",
      "\n",
      "Unique values in event_date - 14706 values:\n",
      "['1948-10-24' '1962-07-19' '1974-08-30' ... '2022-12-15' '2022-12-16'\n",
      " '2022-12-26']\n",
      "\n",
      "\n",
      "Unique values in location - 26630 values:\n",
      "['MOOSE CREEK, ID' 'BRIDGEPORT, CA' 'Saltville, VA' ...\n",
      " 'Guantanamo Bay, OF' 'Regent, ND' 'Woodsfield, OH']\n",
      "\n",
      "\n",
      "Unique values in country - 206 values:\n",
      "['United States' 'Unknown' 'GULF OF MEXICO' 'Puerto Rico' 'ATLANTIC OCEAN'\n",
      " 'HIGH ISLAND' 'Bahamas' 'MISSING' 'Pakistan' 'Angola' 'Germany'\n",
      " 'Korea, Republic Of' 'Martinique' 'American Samoa' 'PACIFIC OCEAN'\n",
      " 'Canada' 'Bolivia' 'Mexico' 'Dominica' 'Netherlands Antilles' 'Iceland'\n",
      " 'Greece' 'Guam' 'Australia' 'CARIBBEAN SEA' 'West Indies' 'Japan'\n",
      " 'Philippines' 'Venezuela' 'Bermuda' 'San Juan Islands' 'Colombia'\n",
      " 'El Salvador' 'United Kingdom' 'British Virgin Islands' 'Netherlands'\n",
      " 'Mozambique' 'Jamaica' 'Panama' 'Costa Rica' 'Norway' 'Hong Kong'\n",
      " 'Portugal' 'Malaysia' 'Turks And Caicos Islands'\n",
      " 'Northern Mariana Islands' 'Dominican Republic' 'Suriname' 'Honduras'\n",
      " 'Congo' 'Belize' 'Guatemala' 'Anguilla' 'St Vincent And The Grenadines'\n",
      " 'Haiti' 'Montserrat' 'Papua New Guinea' 'Cayman Islands' 'Sweden'\n",
      " 'Taiwan' 'France' 'Barbados' 'BLOCK 651A' 'Brazil' 'Mauritius'\n",
      " 'Argentina' 'Ecuador' 'Guyana' 'Aruba' 'Saudi Arabia' 'Cuba'\n",
      " 'French Guiana' 'Denmark' 'Sudan' 'Spain'\n",
      " 'Federated States Of Micronesia' 'St Lucia' 'Switzerland'\n",
      " 'Central African Republic' 'Algeria' 'Turkey' 'Nicaragua'\n",
      " 'Marshall Islands' 'Trinidad And Tobago' 'Austria' 'Malta' 'Cameroon'\n",
      " 'Solomon Islands' 'Zambia' 'Peru' 'Croatia' 'Italy' 'Fiji' 'South Africa'\n",
      " 'Kenya' 'Ethiopia' 'Ireland' 'Chile' 'Antigua And Barbuda' 'Uganda'\n",
      " 'China' 'Cambodia' 'Thailand' 'Belgium' 'Gambia' 'Uruguay' 'Tanzania'\n",
      " 'Mali' 'India' 'Indonesia' 'Bahrain' 'Kazakhstan' 'Egypt' 'Russia'\n",
      " 'Cyprus' \"Cote D'ivoire\" 'Nigeria' 'Greenland' 'Vietnam' 'New Zealand'\n",
      " 'Singapore' 'Gabon' 'Nepal' 'Slovakia' 'Finland' 'Liberia' 'Romania'\n",
      " 'Maldives' 'Antarctica' 'Botswana' 'Isle of Man' 'Latvia' 'Niger'\n",
      " 'French Polynesia' 'Ivory Coast' 'Guadeloupe' 'Paraguay' 'Tunisia'\n",
      " 'Eritrea' 'Gibraltar' 'Namibia' 'Czech Republic' 'Benin'\n",
      " 'Bosnia And Herzegovina' 'Israel' 'Estonia' 'St Kitts And Nevis'\n",
      " 'Sierra Leone' 'Corsica' 'Scotland' 'Reunion' 'United Arab Emirates'\n",
      " 'Afghanistan' 'Ukraine' 'Hungary' 'Bangladesh' 'Morocco' 'Iraq' 'Jordan'\n",
      " 'Ghana' 'Qatar' 'Poland' 'Madagascar' 'Malawi' 'Central Africa' 'Senegal'\n",
      " 'South Sudan' 'Micronesia' 'South Korea' 'Kyrgyzstan' 'Turks And Caicos'\n",
      " 'Eswatini' 'Tokelau' 'Sint Maarten' 'Macao' 'Saint Barthelemy' 'Palau'\n",
      " 'Luxembourg' 'Lebanon' 'Libya' 'Saint Vincent and the Grenadines' 'UN'\n",
      " 'Malampa' 'Chad' 'Cayenne' 'New Caledonia' 'Slovenia' 'Niue' 'Iran'\n",
      " 'Lithuania' 'Republic of North Macedonia' 'Virgin Islands' 'Somalia'\n",
      " 'Antigua and Barbuda' 'Bulgaria' 'Pacific Ocean' 'Obyan' 'Mauritania'\n",
      " 'Zimbabwe' 'Wolseley' 'Saint Pierre and Miquelon' 'Georgia'\n",
      " \"Côte d'Ivoire\" 'South Korean' 'Serbia' 'Great Britain']\n",
      "\n",
      "\n",
      "Unique values in injury_severity - 107 values:\n",
      "['Fatal(2)' 'Fatal(4)' 'Fatal(3)' 'Fatal(1)' 'Non-Fatal' 'Incident'\n",
      " 'Fatal(8)' 'Fatal(78)' 'Fatal(7)' 'Fatal(6)' 'Fatal(5)' 'Fatal(153)'\n",
      " 'Fatal(12)' 'Fatal(14)' 'Fatal(23)' 'Fatal(10)' 'Fatal(11)' 'Fatal(9)'\n",
      " 'Fatal(17)' 'Fatal(13)' 'Fatal(29)' 'Fatal(70)' 'Unavailable'\n",
      " 'Fatal(135)' 'Fatal(31)' 'Fatal(256)' 'Fatal(25)' 'Fatal(82)'\n",
      " 'Fatal(156)' 'Fatal(28)' 'Fatal(18)' 'Fatal(43)' 'Fatal(15)' 'Fatal(270)'\n",
      " 'Fatal(144)' 'Fatal(174)' 'Fatal(111)' 'Fatal(131)' 'Fatal(20)'\n",
      " 'Fatal(73)' 'Fatal(27)' 'Fatal(34)' 'Fatal(87)' 'Fatal(16)' 'Fatal(47)'\n",
      " 'Fatal(56)' 'Fatal(37)' 'Fatal(132)' 'Fatal(68)' 'Fatal(54)' 'Fatal(52)'\n",
      " 'Fatal(65)' 'Fatal(72)' 'Fatal(160)' 'Fatal(189)' 'Fatal(123)'\n",
      " 'Fatal(33)' 'Fatal(110)' 'Fatal(230)' 'Fatal(97)' 'Fatal(125)'\n",
      " 'Fatal(35)' 'Fatal(228)' 'Fatal(75)' 'Fatal(104)' 'Fatal(229)'\n",
      " 'Fatal(80)' 'Fatal(217)' 'Fatal(169)' 'Fatal(88)' 'Fatal(19)' 'Fatal(60)'\n",
      " 'Fatal(113)' 'Fatal(143)' 'Fatal(83)' 'Fatal(24)' 'Fatal(44)' 'Fatal(64)'\n",
      " 'Fatal(92)' 'Fatal(118)' 'Fatal(265)' 'Fatal(26)' 'Fatal(138)'\n",
      " 'Fatal(206)' 'Fatal(71)' 'Fatal(21)' 'Fatal(46)' 'Fatal(115)'\n",
      " 'Fatal(141)' 'Fatal(55)' 'Fatal(121)' 'Fatal(45)' 'Fatal(145)'\n",
      " 'Fatal(117)' 'Fatal(107)' 'Fatal(124)' 'Fatal(49)' 'Fatal(154)'\n",
      " 'Fatal(96)' 'Fatal(102)' 'Fatal(114)' 'Fatal(199)' 'Fatal(89)'\n",
      " 'Fatal(57)' 'Fatal' 'Minor' 'Serious']\n",
      "\n",
      "\n",
      "Unique values in aircraft_damage - 4 values:\n",
      "['Destroyed' 'Substantial' 'Minor' 'Unknown']\n",
      "\n",
      "\n",
      "Unique values in aircraft_category - 13 values:\n",
      "['Unknown' 'Airplane' 'Helicopter' 'Glider' 'Balloon' 'Gyrocraft'\n",
      " 'Ultralight' 'Blimp' 'Powered-Lift' 'Weight-Shift' 'Powered Parachute'\n",
      " 'Rocket' 'WSFT']\n",
      "\n",
      "\n",
      "Unique values in make - 8142 values:\n",
      "['Stinson' 'Piper' 'Cessna' ... 'GREG HOBBS' 'JAMES R DERNOVSEK'\n",
      " 'ORLICAN S R O']\n",
      "\n",
      "\n",
      "Unique values in model - 11768 values:\n",
      "['108-3' 'PA24-180' '172M' ... 'ROTORWAY EXEC 162-F' 'KITFOX S5'\n",
      " 'M-8 EAGLE']\n",
      "\n",
      "\n",
      "Unique values in amateur_built - 2 values:\n",
      "['No' 'Yes']\n",
      "\n",
      "\n",
      "Unique values in engine_type - 12 values:\n",
      "['Reciprocating' 'Turbo Fan' 'Turbo Shaft' 'Unknown' 'Turbo Prop'\n",
      " 'Turbo Jet' 'Electric' 'Hybrid Rocket' 'Geared Turbofan' 'LR' 'NONE'\n",
      " 'UNK']\n",
      "\n",
      "\n",
      "Unique values in purpose_of_flight - 26 values:\n",
      "['Personal' 'Unknown' 'Business' 'Instructional' 'Ferry'\n",
      " 'Executive/corporate' 'Aerial Observation' 'Aerial Application'\n",
      " 'Public Aircraft' 'Skydiving' 'Other Work Use' 'Positioning'\n",
      " 'Flight Test' 'Air Race/show' 'Air Drop' 'Public Aircraft - Federal'\n",
      " 'Glider Tow' 'Public Aircraft - Local' 'External Load'\n",
      " 'Public Aircraft - State' 'Banner Tow' 'Firefighting' 'Air Race show'\n",
      " 'PUBS' 'ASHO' 'PUBL']\n",
      "\n",
      "\n",
      "Unique values in weather_condition - 3 values:\n",
      "['Unknown' 'IMC' 'VMC']\n",
      "\n",
      "\n",
      "Unique values in broad_phase_of_flight - 12 values:\n",
      "['Cruise' 'Unknown' 'Approach' 'Climb' 'Takeoff' 'Landing' 'Taxi'\n",
      " 'Descent' 'Maneuvering' 'Standing' 'Go-around' 'Other']\n",
      "\n",
      "\n"
     ]
    }
   ],
   "source": [
    "# List of non-numeric columns\n",
    "non_numeric_columns = [\n",
    "    'investigation_type', 'event_date', 'location', 'country', \n",
    "    'injury_severity', 'aircraft_damage', 'aircraft_category', \n",
    "    'make', 'model', 'amateur_built', 'engine_type', \n",
    "    'purpose_of_flight', 'weather_condition', 'broad_phase_of_flight'\n",
    "]\n",
    "\n",
    "# Display unique values for each non-numeric column\n",
    "for column in non_numeric_columns:\n",
    "    print(f\"Unique values in {column} - {aviation_data[column].nunique()} values:\")\n",
    "    print(aviation_data[column].unique())\n",
    "    print(\"\\n\")\n"
   ]
  },
  {
   "cell_type": "code",
   "execution_count": 37,
   "id": "91cbee51",
   "metadata": {},
   "outputs": [
    {
     "name": "stdout",
     "output_type": "stream",
     "text": [
      "<class 'pandas.core.frame.DataFrame'>\n",
      "Index: 85121 entries, 0 to 88886\n",
      "Data columns (total 22 columns):\n",
      " #   Column                  Non-Null Count  Dtype         \n",
      "---  ------                  --------------  -----         \n",
      " 0   investigation_type      85121 non-null  object        \n",
      " 1   event_date              85121 non-null  datetime64[ns]\n",
      " 2   location                85121 non-null  object        \n",
      " 3   country                 85121 non-null  object        \n",
      " 4   injury_severity         85121 non-null  object        \n",
      " 5   aircraft_damage         85121 non-null  object        \n",
      " 6   aircraft_category       85121 non-null  object        \n",
      " 7   make                    85121 non-null  object        \n",
      " 8   model                   85121 non-null  object        \n",
      " 9   amateur_built           85121 non-null  object        \n",
      " 10  number_of_engines       85121 non-null  float64       \n",
      " 11  engine_type             85121 non-null  object        \n",
      " 12  purpose_of_flight       85121 non-null  object        \n",
      " 13  total_fatal_injuries    85121 non-null  float64       \n",
      " 14  total_serious_injuries  85121 non-null  float64       \n",
      " 15  total_minor_injuries    85121 non-null  float64       \n",
      " 16  total_uninjured         85121 non-null  float64       \n",
      " 17  weather_condition       85121 non-null  object        \n",
      " 18  broad_phase_of_flight   85121 non-null  object        \n",
      " 19  year                    85121 non-null  int32         \n",
      " 20  month                   85121 non-null  int32         \n",
      " 21  month_name              85121 non-null  object        \n",
      "dtypes: datetime64[ns](1), float64(5), int32(2), object(14)\n",
      "memory usage: 14.3+ MB\n"
     ]
    }
   ],
   "source": [
    "aviation_data.info()"
   ]
  },
  {
   "cell_type": "code",
   "execution_count": 34,
   "id": "d9e9dae6",
   "metadata": {},
   "outputs": [
    {
     "name": "stdout",
     "output_type": "stream",
     "text": [
      "      event_date  year  month\n",
      "88842 2022-12-04  2022     12\n",
      "88843 2022-12-04  2022     12\n",
      "88844 2022-12-04  2022     12\n",
      "88845 2022-12-05  2022     12\n",
      "88846 2022-12-05  2022     12\n",
      "88847 2022-12-05  2022     12\n",
      "88848 2022-12-05  2022     12\n",
      "88854 2022-12-07  2022     12\n",
      "88856 2022-12-08  2022     12\n",
      "88857 2022-12-08  2022     12\n",
      "88858 2022-12-09  2022     12\n",
      "88859 2022-12-09  2022     12\n",
      "88861 2022-12-10  2022     12\n",
      "88865 2022-12-12  2022     12\n",
      "88867 2022-12-12  2022     12\n",
      "88869 2022-12-13  2022     12\n",
      "88873 2022-12-14  2022     12\n",
      "88876 2022-12-15  2022     12\n",
      "88877 2022-12-16  2022     12\n",
      "88886 2022-12-26  2022     12\n"
     ]
    }
   ],
   "source": [
    "# Step 1: Convert event_date to datetime\n",
    "aviation_data['event_date'] = pd.to_datetime(aviation_data['event_date'])\n",
    "\n",
    "# Step 2: Extract year and month\n",
    "aviation_data['year'] = aviation_data['event_date'].dt.year\n",
    "aviation_data['month'] = aviation_data['event_date'].dt.month\n",
    "\n",
    "# Display the updated DataFrame to check the new columns\n",
    "print(aviation_data[['event_date', 'year', 'month']].tail(20))"
   ]
  },
  {
   "cell_type": "code",
   "execution_count": 35,
   "id": "6a840d52",
   "metadata": {},
   "outputs": [
    {
     "name": "stdout",
     "output_type": "stream",
     "text": [
      "    month month_name\n",
      "0      10    October\n",
      "1       7       July\n",
      "2       8     August\n",
      "3       6       June\n",
      "4       8     August\n",
      "5       9  September\n",
      "6       8     August\n",
      "7       1    January\n",
      "8       1    January\n",
      "9       1    January\n",
      "10      1    January\n",
      "11      1    January\n",
      "12      1    January\n",
      "13      1    January\n",
      "14      1    January\n",
      "15      1    January\n",
      "16      1    January\n",
      "17      1    January\n",
      "18      1    January\n",
      "19      1    January\n"
     ]
    }
   ],
   "source": [
    "# Extract month names using strftime\n",
    "# aviation_data['month_name'] = aviation_data['event_date'].dt.strftime('%b')  # Abbreviated month name (e.g., Jan, Feb)\n",
    "aviation_data['month_name'] = aviation_data['event_date'].dt.strftime('%B')  # Full month name (e.g., January, February)\n",
    "\n",
    "# Display the updated DataFrame\n",
    "print(aviation_data[['month', 'month_name']].head(20))\n"
   ]
  },
  {
   "cell_type": "code",
   "execution_count": 38,
   "id": "26fdeabc",
   "metadata": {},
   "outputs": [
    {
     "name": "stdout",
     "output_type": "stream",
     "text": [
      "country\n",
      "USA               80177\n",
      "Brazil              311\n",
      "Canada              290\n",
      "Mexico              281\n",
      "Not Specified       234\n",
      "United Kingdom      209\n",
      "Australia           199\n",
      "Bahamas             199\n",
      "France              178\n",
      "Germany             166\n",
      "Name: count, dtype: int64\n"
     ]
    }
   ],
   "source": [
    "# Update the mapping dictionary to use \"Ivory Coast\"\n",
    "country_mapping = {\n",
    "    'United States': 'USA',\n",
    "    'Unknown': 'Not Specified',\n",
    "    'MISSING': 'Not Specified',\n",
    "    'GULF OF MEXICO': 'Other',\n",
    "    'PACIFIC OCEAN': 'Other',\n",
    "    'ATLANTIC OCEAN': 'Other',\n",
    "    'Saint Vincent and the Grenadines': 'St Vincent And The Grenadines',\n",
    "    'Ivory Coast': 'Ivory Coast',\n",
    "    'Côte d\\'Ivoire': 'Ivory Coast',\n",
    "    \"Cote D'ivoire\": 'Ivory Coast',\n",
    "    'South Korean': 'South Korea',\n",
    "    'Republic of North Macedonia': 'North Macedonia',\n",
    "    'Antigua And Barbuda': 'Antigua and Barbuda'\n",
    "}\n",
    "\n",
    "# Apply the updated mapping\n",
    "aviation_data['country'] = aviation_data['country'].replace(country_mapping)\n",
    "\n",
    "# Check the unique values after standardization\n",
    "print(aviation_data['country'].value_counts().head(10))\n"
   ]
  },
  {
   "cell_type": "code",
   "execution_count": 43,
   "id": "daee2488",
   "metadata": {},
   "outputs": [
    {
     "data": {
      "text/plain": [
       "injury_severity\n",
       "Non-Fatal     65720\n",
       "Fatal(1)       6066\n",
       "Fatal          5132\n",
       "Fatal(2)       3699\n",
       "Incident       1389\n",
       "              ...  \n",
       "Fatal(43)         1\n",
       "Fatal(60)         1\n",
       "Fatal(28)         1\n",
       "Fatal(143)        1\n",
       "Fatal(153)        1\n",
       "Name: count, Length: 107, dtype: int64"
      ]
     },
     "execution_count": 43,
     "metadata": {},
     "output_type": "execute_result"
    }
   ],
   "source": [
    "aviation_data['injury_severity'].value_counts()"
   ]
  },
  {
   "cell_type": "code",
   "execution_count": 45,
   "id": "d242d950",
   "metadata": {},
   "outputs": [],
   "source": [
    "# Dropping the injury severity column because we already have columns like total_fatal_injuries\n",
    "aviation_data.drop('injury_severity', axis=1, inplace=True)"
   ]
  },
  {
   "cell_type": "code",
   "execution_count": 46,
   "id": "93e0186d",
   "metadata": {},
   "outputs": [
    {
     "data": {
      "text/plain": [
       "aircraft_damage\n",
       "Substantial    63916\n",
       "Destroyed      18535\n",
       "Minor           2578\n",
       "Unknown           92\n",
       "Name: count, dtype: int64"
      ]
     },
     "execution_count": 46,
     "metadata": {},
     "output_type": "execute_result"
    }
   ],
   "source": [
    "aviation_data['aircraft_damage'].value_counts()"
   ]
  },
  {
   "cell_type": "code",
   "execution_count": 47,
   "id": "32a34a1b",
   "metadata": {},
   "outputs": [
    {
     "name": "stdout",
     "output_type": "stream",
     "text": [
      "aircraft_damage\n",
      "Substantial    63916\n",
      "Destroyed      18535\n",
      "Minor           2578\n",
      "Name: count, dtype: int64\n"
     ]
    }
   ],
   "source": [
    "# Drop rows with \"Unknown\" in the 'aircraft_damage' column\n",
    "aviation_data = aviation_data[aviation_data['aircraft_damage'] != 'Unknown']\n",
    "\n",
    "# Verify the changes\n",
    "print(aviation_data['aircraft_damage'].value_counts())"
   ]
  },
  {
   "cell_type": "code",
   "execution_count": 49,
   "id": "961f7496",
   "metadata": {},
   "outputs": [
    {
     "data": {
      "text/plain": [
       "aircraft_category\n",
       "Unknown              54798\n",
       "Airplane             25828\n",
       "Helicopter            3296\n",
       "Glider                 503\n",
       "Gyrocraft              173\n",
       "Weight-Shift           160\n",
       "Balloon                135\n",
       "Powered Parachute       88\n",
       "Ultralight              30\n",
       "WSFT                     9\n",
       "Blimp                    4\n",
       "Powered-Lift             4\n",
       "Rocket                   1\n",
       "Name: count, dtype: int64"
      ]
     },
     "execution_count": 49,
     "metadata": {},
     "output_type": "execute_result"
    }
   ],
   "source": [
    "aviation_data['aircraft_category'].value_counts()"
   ]
  },
  {
   "cell_type": "code",
   "execution_count": 50,
   "id": "5402e037",
   "metadata": {},
   "outputs": [
    {
     "data": {
      "text/plain": [
       "investigation_type\n",
       "Accident    83129\n",
       "Incident     1900\n",
       "Name: count, dtype: int64"
      ]
     },
     "execution_count": 50,
     "metadata": {},
     "output_type": "execute_result"
    }
   ],
   "source": [
    "aviation_data['investigation_type'].value_counts()"
   ]
  },
  {
   "cell_type": "code",
   "execution_count": 51,
   "id": "d7f032e8",
   "metadata": {},
   "outputs": [],
   "source": [
    "# Create a DataFrame with rows where 'aircraft_category' is not 'Unknown'\n",
    "known_aircraft_data = aviation_data[aviation_data['aircraft_category'] != 'Unknown']\n",
    "\n",
    "# Create a DataFrame with rows where 'aircraft_category' is 'Unknown'\n",
    "unknown_aircraft_data = aviation_data[aviation_data['aircraft_category'] == 'Unknown']"
   ]
  },
  {
   "cell_type": "code",
   "execution_count": 60,
   "id": "dca96306",
   "metadata": {},
   "outputs": [
    {
     "data": {
      "text/plain": [
       "make\n",
       "Cessna                         22078\n",
       "Piper                          11953\n",
       "CESSNA                          4716\n",
       "Beech                           4282\n",
       "PIPER                           2755\n",
       "Bell                            2091\n",
       "Mooney                          1086\n",
       "Grumman                         1085\n",
       "Boeing                          1049\n",
       "BEECH                           1000\n",
       "Robinson                         941\n",
       "Bellanca                         883\n",
       "Hughes                           786\n",
       "Schweizer                        624\n",
       "Air Tractor                      593\n",
       "BELL                             547\n",
       "Aeronca                          485\n",
       "Maule                            443\n",
       "Champion                         426\n",
       "Mcdonnell Douglas                389\n",
       "BOEING                           388\n",
       "Aero Commander                   356\n",
       "De Havilland                     351\n",
       "Stinson                          348\n",
       "Rockwell                         330\n",
       "Taylorcraft                      320\n",
       "Luscombe                         318\n",
       "Aerospatiale                     315\n",
       "Hiller                           310\n",
       "North American                   303\n",
       "ROBINSON                         247\n",
       "Enstrom                          246\n",
       "MOONEY                           232\n",
       "Grumman American                 224\n",
       "ROBINSON HELICOPTER              218\n",
       "AIR TRACTOR INC                  216\n",
       "CIRRUS DESIGN CORP               214\n",
       "Ayres                            211\n",
       "Douglas                          208\n",
       "ROBINSON HELICOPTER COMPANY      173\n",
       "Name: count, dtype: int64"
      ]
     },
     "execution_count": 60,
     "metadata": {},
     "output_type": "execute_result"
    }
   ],
   "source": [
    "aviation_data['make'].value_counts().head(40)"
   ]
  },
  {
   "cell_type": "code",
   "execution_count": 73,
   "id": "ea08b047",
   "metadata": {},
   "outputs": [
    {
     "name": "stdout",
     "output_type": "stream",
     "text": [
      "make\n",
      "Cessna      26794\n",
      "Piper       14708\n",
      "Beech        5282\n",
      "Bell         2638\n",
      "Boeing       1437\n",
      "Mooney       1318\n",
      "Robinson     1188\n",
      "Grumman      1162\n",
      "Bellanca     1040\n",
      "Hughes        918\n",
      "Name: count, dtype: int64\n"
     ]
    }
   ],
   "source": [
    "# Standardize 'make' column: convert to title case and strip whitespaces\n",
    "aviation_data['make'] = aviation_data['make'].str.title().str.strip()\n",
    "\n",
    "# Check the unique values and the top 40 after standardization\n",
    "print(aviation_data['make'].value_counts().iloc[0:10])"
   ]
  },
  {
   "cell_type": "code",
   "execution_count": 74,
   "id": "1dbe7480",
   "metadata": {},
   "outputs": [
    {
     "name": "stdout",
     "output_type": "stream",
     "text": [
      "<class 'pandas.core.frame.DataFrame'>\n",
      "Index: 85029 entries, 0 to 88886\n",
      "Data columns (total 21 columns):\n",
      " #   Column                  Non-Null Count  Dtype         \n",
      "---  ------                  --------------  -----         \n",
      " 0   investigation_type      85029 non-null  object        \n",
      " 1   event_date              85029 non-null  datetime64[ns]\n",
      " 2   location                85029 non-null  object        \n",
      " 3   country                 85029 non-null  object        \n",
      " 4   aircraft_damage         85029 non-null  object        \n",
      " 5   aircraft_category       85029 non-null  object        \n",
      " 6   make                    85029 non-null  object        \n",
      " 7   model                   85029 non-null  object        \n",
      " 8   amateur_built           85029 non-null  object        \n",
      " 9   number_of_engines       85029 non-null  float64       \n",
      " 10  engine_type             85029 non-null  object        \n",
      " 11  purpose_of_flight       85029 non-null  object        \n",
      " 12  total_fatal_injuries    85029 non-null  float64       \n",
      " 13  total_serious_injuries  85029 non-null  float64       \n",
      " 14  total_minor_injuries    85029 non-null  float64       \n",
      " 15  total_uninjured         85029 non-null  float64       \n",
      " 16  weather_condition       85029 non-null  object        \n",
      " 17  broad_phase_of_flight   85029 non-null  object        \n",
      " 18  year                    85029 non-null  int32         \n",
      " 19  month                   85029 non-null  int32         \n",
      " 20  month_name              85029 non-null  object        \n",
      "dtypes: datetime64[ns](1), float64(5), int32(2), object(13)\n",
      "memory usage: 13.6+ MB\n"
     ]
    }
   ],
   "source": [
    "aviation_data.info()"
   ]
  },
  {
   "cell_type": "code",
   "execution_count": 79,
   "id": "3cb943d1",
   "metadata": {},
   "outputs": [
    {
     "name": "stdout",
     "output_type": "stream",
     "text": [
      "           location state_abbr     state_name\n",
      "0   MOOSE CREEK, ID         ID          Idaho\n",
      "1    BRIDGEPORT, CA         CA     California\n",
      "2     Saltville, VA         VA       Virginia\n",
      "3        EUREKA, CA         CA     California\n",
      "4        Canton, OH         OH           Ohio\n",
      "5        BOSTON, MA         MA  Massachusetts\n",
      "6        COTTON, MN         MN      Minnesota\n",
      "7       PULLMAN, WA         WA     Washington\n",
      "8  EAST HANOVER, NJ         NJ     New Jersey\n",
      "9  JACKSONVILLE, FL         FL        Florida\n"
     ]
    }
   ],
   "source": [
    "# Filter for USA cases\n",
    "usa_data = aviation_data[aviation_data['country'] == 'USA'].copy()\n",
    "# Extract state abbreviation from location (assuming format 'City, State')\n",
    "usa_data['state_abbr'] = usa_data['location'].str.split(',').str[-1].str.strip()\n",
    "\n",
    "# Create a dictionary for mapping abbreviations to state names\n",
    "state_mapping = dict(zip(state_codes['Abbreviation'], state_codes['US_State']))\n",
    "\n",
    "# Add the full state name to the USA DataFrame\n",
    "usa_data['state_name'] = usa_data['state_abbr'].map(state_mapping)\n",
    "print(usa_data[['location', 'state_abbr', 'state_name']].head(10))\n"
   ]
  },
  {
   "cell_type": "code",
   "execution_count": 80,
   "id": "d35326ad",
   "metadata": {},
   "outputs": [
    {
     "name": "stdout",
     "output_type": "stream",
     "text": [
      "        State  Case Count\n",
      "0  California        8664\n",
      "1       Texas        5761\n",
      "2     Florida        5665\n",
      "3      Alaska        5603\n",
      "4     Arizona        2778\n",
      "5    Colorado        2611\n",
      "6  Washington        2565\n",
      "7    Michigan        1969\n",
      "8     Georgia        1955\n",
      "9    Illinois        1919\n"
     ]
    }
   ],
   "source": [
    "# Group by state_name and count the number of occurrences\n",
    "state_case_counts = usa_data['state_name'].value_counts()\n",
    "\n",
    "# Convert to a DataFrame for better readability\n",
    "state_case_counts_df = state_case_counts.reset_index()\n",
    "state_case_counts_df.columns = ['State', 'Case Count']\n",
    "\n",
    "# Display the top states with the most cases\n",
    "print(state_case_counts_df.head(10))"
   ]
  },
  {
   "cell_type": "code",
   "execution_count": 81,
   "id": "b161ce3d",
   "metadata": {},
   "outputs": [
    {
     "name": "stdout",
     "output_type": "stream",
     "text": [
      "<class 'pandas.core.frame.DataFrame'>\n",
      "Index: 85029 entries, 0 to 88886\n",
      "Data columns (total 21 columns):\n",
      " #   Column                  Non-Null Count  Dtype         \n",
      "---  ------                  --------------  -----         \n",
      " 0   investigation_type      85029 non-null  object        \n",
      " 1   event_date              85029 non-null  datetime64[ns]\n",
      " 2   location                85029 non-null  object        \n",
      " 3   country                 85029 non-null  object        \n",
      " 4   aircraft_damage         85029 non-null  object        \n",
      " 5   aircraft_category       85029 non-null  object        \n",
      " 6   make                    85029 non-null  object        \n",
      " 7   model                   85029 non-null  object        \n",
      " 8   amateur_built           85029 non-null  object        \n",
      " 9   number_of_engines       85029 non-null  float64       \n",
      " 10  engine_type             85029 non-null  object        \n",
      " 11  purpose_of_flight       85029 non-null  object        \n",
      " 12  total_fatal_injuries    85029 non-null  float64       \n",
      " 13  total_serious_injuries  85029 non-null  float64       \n",
      " 14  total_minor_injuries    85029 non-null  float64       \n",
      " 15  total_uninjured         85029 non-null  float64       \n",
      " 16  weather_condition       85029 non-null  object        \n",
      " 17  broad_phase_of_flight   85029 non-null  object        \n",
      " 18  year                    85029 non-null  int32         \n",
      " 19  month                   85029 non-null  int32         \n",
      " 20  month_name              85029 non-null  object        \n",
      "dtypes: datetime64[ns](1), float64(5), int32(2), object(13)\n",
      "memory usage: 13.6+ MB\n"
     ]
    }
   ],
   "source": [
    "aviation_data.info()"
   ]
  },
  {
   "cell_type": "code",
   "execution_count": 82,
   "id": "b65b3e81",
   "metadata": {},
   "outputs": [
    {
     "name": "stdout",
     "output_type": "stream",
     "text": [
      "<class 'pandas.core.frame.DataFrame'>\n",
      "Index: 80127 entries, 0 to 88886\n",
      "Data columns (total 23 columns):\n",
      " #   Column                  Non-Null Count  Dtype         \n",
      "---  ------                  --------------  -----         \n",
      " 0   investigation_type      80127 non-null  object        \n",
      " 1   event_date              80127 non-null  datetime64[ns]\n",
      " 2   location                80127 non-null  object        \n",
      " 3   country                 80127 non-null  object        \n",
      " 4   aircraft_damage         80127 non-null  object        \n",
      " 5   aircraft_category       80127 non-null  object        \n",
      " 6   make                    80127 non-null  object        \n",
      " 7   model                   80127 non-null  object        \n",
      " 8   amateur_built           80127 non-null  object        \n",
      " 9   number_of_engines       80127 non-null  float64       \n",
      " 10  engine_type             80127 non-null  object        \n",
      " 11  purpose_of_flight       80127 non-null  object        \n",
      " 12  total_fatal_injuries    80127 non-null  float64       \n",
      " 13  total_serious_injuries  80127 non-null  float64       \n",
      " 14  total_minor_injuries    80127 non-null  float64       \n",
      " 15  total_uninjured         80127 non-null  float64       \n",
      " 16  weather_condition       80127 non-null  object        \n",
      " 17  broad_phase_of_flight   80127 non-null  object        \n",
      " 18  year                    80127 non-null  int32         \n",
      " 19  month                   80127 non-null  int32         \n",
      " 20  month_name              80127 non-null  object        \n",
      " 21  state_abbr              80127 non-null  object        \n",
      " 22  state_name              80055 non-null  object        \n",
      "dtypes: datetime64[ns](1), float64(5), int32(2), object(15)\n",
      "memory usage: 14.1+ MB\n"
     ]
    }
   ],
   "source": [
    "usa_data.info()"
   ]
  },
  {
   "cell_type": "code",
   "execution_count": 84,
   "id": "6d6a7e78",
   "metadata": {},
   "outputs": [
    {
     "name": "stdout",
     "output_type": "stream",
     "text": [
      "<class 'pandas.core.frame.DataFrame'>\n",
      "Index: 80055 entries, 0 to 88886\n",
      "Data columns (total 23 columns):\n",
      " #   Column                  Non-Null Count  Dtype         \n",
      "---  ------                  --------------  -----         \n",
      " 0   investigation_type      80055 non-null  object        \n",
      " 1   event_date              80055 non-null  datetime64[ns]\n",
      " 2   location                80055 non-null  object        \n",
      " 3   country                 80055 non-null  object        \n",
      " 4   aircraft_damage         80055 non-null  object        \n",
      " 5   aircraft_category       80055 non-null  object        \n",
      " 6   make                    80055 non-null  object        \n",
      " 7   model                   80055 non-null  object        \n",
      " 8   amateur_built           80055 non-null  object        \n",
      " 9   number_of_engines       80055 non-null  float64       \n",
      " 10  engine_type             80055 non-null  object        \n",
      " 11  purpose_of_flight       80055 non-null  object        \n",
      " 12  total_fatal_injuries    80055 non-null  float64       \n",
      " 13  total_serious_injuries  80055 non-null  float64       \n",
      " 14  total_minor_injuries    80055 non-null  float64       \n",
      " 15  total_uninjured         80055 non-null  float64       \n",
      " 16  weather_condition       80055 non-null  object        \n",
      " 17  broad_phase_of_flight   80055 non-null  object        \n",
      " 18  year                    80055 non-null  int32         \n",
      " 19  month                   80055 non-null  int32         \n",
      " 20  month_name              80055 non-null  object        \n",
      " 21  state_abbr              80055 non-null  object        \n",
      " 22  state_name              80055 non-null  object        \n",
      "dtypes: datetime64[ns](1), float64(5), int32(2), object(15)\n",
      "memory usage: 14.0+ MB\n"
     ]
    }
   ],
   "source": [
    "df_usa = usa_data.dropna()\n",
    "df_usa.info()"
   ]
  },
  {
   "cell_type": "code",
   "execution_count": 86,
   "id": "f0f07d76",
   "metadata": {},
   "outputs": [
    {
     "name": "stdout",
     "output_type": "stream",
     "text": [
      "Index(['investigation_type', 'event_date', 'location', 'country',\n",
      "       'aircraft_damage', 'aircraft_category', 'make', 'model',\n",
      "       'amateur_built', 'number_of_engines', 'engine_type',\n",
      "       'purpose_of_flight', 'total_fatal_injuries', 'total_serious_injuries',\n",
      "       'total_minor_injuries', 'total_uninjured', 'weather_condition',\n",
      "       'broad_phase_of_flight', 'year', 'month_name', 'state_name'],\n",
      "      dtype='object')\n"
     ]
    },
    {
     "name": "stderr",
     "output_type": "stream",
     "text": [
      "C:\\Users\\HP\\AppData\\Local\\Temp\\ipykernel_10508\\3052871411.py:2: SettingWithCopyWarning: \n",
      "A value is trying to be set on a copy of a slice from a DataFrame\n",
      "\n",
      "See the caveats in the documentation: https://pandas.pydata.org/pandas-docs/stable/user_guide/indexing.html#returning-a-view-versus-a-copy\n",
      "  df_usa.drop(columns=['month', 'state_abbr'], inplace=True)\n"
     ]
    }
   ],
   "source": [
    "# Drop 'month' and 'state_abbr' columns from df_usa\n",
    "df_usa.drop(columns=['month', 'state_abbr'], inplace=True)\n",
    "\n",
    "# Verify the changes\n",
    "print(df_usa.columns)"
   ]
  },
  {
   "cell_type": "code",
   "execution_count": null,
   "id": "886addab",
   "metadata": {},
   "outputs": [],
   "source": []
  }
 ],
 "metadata": {
  "kernelspec": {
   "display_name": "Python 3 (ipykernel)",
   "language": "python",
   "name": "python3"
  },
  "language_info": {
   "codemirror_mode": {
    "name": "ipython",
    "version": 3
   },
   "file_extension": ".py",
   "mimetype": "text/x-python",
   "name": "python",
   "nbconvert_exporter": "python",
   "pygments_lexer": "ipython3",
   "version": "3.11.7"
  }
 },
 "nbformat": 4,
 "nbformat_minor": 5
}
