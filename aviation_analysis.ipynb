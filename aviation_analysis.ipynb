{
 "cells": [
  {
   "cell_type": "markdown",
   "id": "879e3d22",
   "metadata": {},
   "source": [
    "# Aircraft Risk Analysis"
   ]
  },
  {
   "cell_type": "markdown",
   "id": "77464ba5",
   "metadata": {},
   "source": [
    "## Overview"
   ]
  },
  {
   "cell_type": "markdown",
   "id": "e35205c0",
   "metadata": {},
   "source": [
    "This project uses data cleaning, imputation, analysis, and visualization to generate insights for the company, which aims to expand into new industries."
   ]
  },
  {
   "cell_type": "markdown",
   "id": "0caaffc8",
   "metadata": {},
   "source": [
    "## Business Problem"
   ]
  },
  {
   "cell_type": "markdown",
   "id": "1b977e03",
   "metadata": {},
   "source": [
    "The company is expanding in to new industries to diversify its portfolio. Specifically, they are interested in purchasing and operating airplanes for commercial and private enterprises, but do not know anything about the potential risks of aircraft. I am charged with determining which aircraft are the lowest risk for the company to start this new business endeavor. I must then translate my findings into actionable insights that the head of the new aviation division can use to help decide which aircraft to purchase."
   ]
  },
  {
   "cell_type": "markdown",
   "id": "12c24dac",
   "metadata": {},
   "source": [
    "## Data Understanding"
   ]
  },
  {
   "cell_type": "markdown",
   "id": "5f116e06",
   "metadata": {},
   "source": [
    "In the data folder is the 'AviationData.csv' file, a dataset from the National Transportation Safety Board that includes aviation accident data from 1962 to 2023 about civil aviation accidents and selected incidents in the United States and international waters. Additionally, there is a 'USState_Codes.csv' file, which has two columns, one having the various states in the USA, and the second column having the corresponding abbreviations used for each state."
   ]
  },
  {
   "cell_type": "code",
   "execution_count": 67,
   "id": "5bf88d4c",
   "metadata": {},
   "outputs": [],
   "source": [
    "# Importing the necessary libraries to be used in the project\n",
    "import numpy as np\n",
    "import pandas as pd\n",
    "import matplotlib.pyplot as plt\n",
    "import seaborn as sns"
   ]
  },
  {
   "cell_type": "code",
   "execution_count": 68,
   "id": "2c8ba46d",
   "metadata": {},
   "outputs": [
    {
     "name": "stderr",
     "output_type": "stream",
     "text": [
      "C:\\Users\\HP\\AppData\\Local\\Temp\\ipykernel_18844\\1598760940.py:4: DtypeWarning: Columns (6,7,28) have mixed types. Specify dtype option on import or set low_memory=False.\n",
      "  aviation_data = pd.read_csv('data/AviationData.csv', encoding='latin-1')\n"
     ]
    }
   ],
   "source": [
    "# Reading the datasets into pandas DataFrames\n",
    "# We use the argument encoding='latin-1' because some bytes can't be decoded in 'utf-8'\n",
    "# To avoid that error, we use the encoding='latin-1' argument\n",
    "aviation_data = pd.read_csv('data/AviationData.csv', encoding='latin-1')\n",
    "state_codes = pd.read_csv('data/USState_Codes.csv')\n",
    "# We get a warning that some columns have mixed types but we'll take care of that later in Data cleaning"
   ]
  },
  {
   "cell_type": "code",
   "execution_count": 69,
   "id": "a3d2ec2a",
   "metadata": {},
   "outputs": [
    {
     "name": "stdout",
     "output_type": "stream",
     "text": [
      "<class 'pandas.core.frame.DataFrame'>\n",
      "RangeIndex: 88889 entries, 0 to 88888\n",
      "Data columns (total 31 columns):\n",
      " #   Column                  Non-Null Count  Dtype  \n",
      "---  ------                  --------------  -----  \n",
      " 0   Event.Id                88889 non-null  object \n",
      " 1   Investigation.Type      88889 non-null  object \n",
      " 2   Accident.Number         88889 non-null  object \n",
      " 3   Event.Date              88889 non-null  object \n",
      " 4   Location                88837 non-null  object \n",
      " 5   Country                 88663 non-null  object \n",
      " 6   Latitude                34382 non-null  object \n",
      " 7   Longitude               34373 non-null  object \n",
      " 8   Airport.Code            50132 non-null  object \n",
      " 9   Airport.Name            52704 non-null  object \n",
      " 10  Injury.Severity         87889 non-null  object \n",
      " 11  Aircraft.damage         85695 non-null  object \n",
      " 12  Aircraft.Category       32287 non-null  object \n",
      " 13  Registration.Number     87507 non-null  object \n",
      " 14  Make                    88826 non-null  object \n",
      " 15  Model                   88797 non-null  object \n",
      " 16  Amateur.Built           88787 non-null  object \n",
      " 17  Number.of.Engines       82805 non-null  float64\n",
      " 18  Engine.Type             81793 non-null  object \n",
      " 19  FAR.Description         32023 non-null  object \n",
      " 20  Schedule                12582 non-null  object \n",
      " 21  Purpose.of.flight       82697 non-null  object \n",
      " 22  Air.carrier             16648 non-null  object \n",
      " 23  Total.Fatal.Injuries    77488 non-null  float64\n",
      " 24  Total.Serious.Injuries  76379 non-null  float64\n",
      " 25  Total.Minor.Injuries    76956 non-null  float64\n",
      " 26  Total.Uninjured         82977 non-null  float64\n",
      " 27  Weather.Condition       84397 non-null  object \n",
      " 28  Broad.phase.of.flight   61724 non-null  object \n",
      " 29  Report.Status           82505 non-null  object \n",
      " 30  Publication.Date        75118 non-null  object \n",
      "dtypes: float64(5), object(26)\n",
      "memory usage: 21.0+ MB\n"
     ]
    }
   ],
   "source": [
    "# Getting an overview of the data, incuding the non-null values in the columns\n",
    "aviation_data.info()"
   ]
  },
  {
   "cell_type": "code",
   "execution_count": 70,
   "id": "9f49efa7",
   "metadata": {},
   "outputs": [
    {
     "name": "stdout",
     "output_type": "stream",
     "text": [
      "<class 'pandas.core.frame.DataFrame'>\n",
      "RangeIndex: 62 entries, 0 to 61\n",
      "Data columns (total 2 columns):\n",
      " #   Column        Non-Null Count  Dtype \n",
      "---  ------        --------------  ----- \n",
      " 0   US_State      62 non-null     object\n",
      " 1   Abbreviation  62 non-null     object\n",
      "dtypes: object(2)\n",
      "memory usage: 1.1+ KB\n"
     ]
    }
   ],
   "source": [
    "# Summary of the state codes dataset\n",
    "state_codes.info()"
   ]
  },
  {
   "cell_type": "markdown",
   "id": "edc88aac",
   "metadata": {},
   "source": [
    "### Aviation Data"
   ]
  },
  {
   "cell_type": "markdown",
   "id": "bcf412c9",
   "metadata": {},
   "source": [
    "The Aviation dataset includes aviation accident data from 1962 to 2023 about civil aviation accidents and selected incidents in the United States and international waters. Among the columns is the event ID, the country where it took place, aircraft model, number of injuries etc."
   ]
  },
  {
   "cell_type": "code",
   "execution_count": 71,
   "id": "925489e2",
   "metadata": {},
   "outputs": [
    {
     "data": {
      "text/html": [
       "<div>\n",
       "<style scoped>\n",
       "    .dataframe tbody tr th:only-of-type {\n",
       "        vertical-align: middle;\n",
       "    }\n",
       "\n",
       "    .dataframe tbody tr th {\n",
       "        vertical-align: top;\n",
       "    }\n",
       "\n",
       "    .dataframe thead th {\n",
       "        text-align: right;\n",
       "    }\n",
       "</style>\n",
       "<table border=\"1\" class=\"dataframe\">\n",
       "  <thead>\n",
       "    <tr style=\"text-align: right;\">\n",
       "      <th></th>\n",
       "      <th>Event.Id</th>\n",
       "      <th>Investigation.Type</th>\n",
       "      <th>Accident.Number</th>\n",
       "      <th>Event.Date</th>\n",
       "      <th>Location</th>\n",
       "      <th>Country</th>\n",
       "      <th>Latitude</th>\n",
       "      <th>Longitude</th>\n",
       "      <th>Airport.Code</th>\n",
       "      <th>Airport.Name</th>\n",
       "      <th>...</th>\n",
       "      <th>Purpose.of.flight</th>\n",
       "      <th>Air.carrier</th>\n",
       "      <th>Total.Fatal.Injuries</th>\n",
       "      <th>Total.Serious.Injuries</th>\n",
       "      <th>Total.Minor.Injuries</th>\n",
       "      <th>Total.Uninjured</th>\n",
       "      <th>Weather.Condition</th>\n",
       "      <th>Broad.phase.of.flight</th>\n",
       "      <th>Report.Status</th>\n",
       "      <th>Publication.Date</th>\n",
       "    </tr>\n",
       "  </thead>\n",
       "  <tbody>\n",
       "    <tr>\n",
       "      <th>0</th>\n",
       "      <td>20001218X45444</td>\n",
       "      <td>Accident</td>\n",
       "      <td>SEA87LA080</td>\n",
       "      <td>1948-10-24</td>\n",
       "      <td>MOOSE CREEK, ID</td>\n",
       "      <td>United States</td>\n",
       "      <td>NaN</td>\n",
       "      <td>NaN</td>\n",
       "      <td>NaN</td>\n",
       "      <td>NaN</td>\n",
       "      <td>...</td>\n",
       "      <td>Personal</td>\n",
       "      <td>NaN</td>\n",
       "      <td>2.0</td>\n",
       "      <td>0.0</td>\n",
       "      <td>0.0</td>\n",
       "      <td>0.0</td>\n",
       "      <td>UNK</td>\n",
       "      <td>Cruise</td>\n",
       "      <td>Probable Cause</td>\n",
       "      <td>NaN</td>\n",
       "    </tr>\n",
       "    <tr>\n",
       "      <th>1</th>\n",
       "      <td>20001218X45447</td>\n",
       "      <td>Accident</td>\n",
       "      <td>LAX94LA336</td>\n",
       "      <td>1962-07-19</td>\n",
       "      <td>BRIDGEPORT, CA</td>\n",
       "      <td>United States</td>\n",
       "      <td>NaN</td>\n",
       "      <td>NaN</td>\n",
       "      <td>NaN</td>\n",
       "      <td>NaN</td>\n",
       "      <td>...</td>\n",
       "      <td>Personal</td>\n",
       "      <td>NaN</td>\n",
       "      <td>4.0</td>\n",
       "      <td>0.0</td>\n",
       "      <td>0.0</td>\n",
       "      <td>0.0</td>\n",
       "      <td>UNK</td>\n",
       "      <td>Unknown</td>\n",
       "      <td>Probable Cause</td>\n",
       "      <td>19-09-1996</td>\n",
       "    </tr>\n",
       "    <tr>\n",
       "      <th>2</th>\n",
       "      <td>20061025X01555</td>\n",
       "      <td>Accident</td>\n",
       "      <td>NYC07LA005</td>\n",
       "      <td>1974-08-30</td>\n",
       "      <td>Saltville, VA</td>\n",
       "      <td>United States</td>\n",
       "      <td>36.922223</td>\n",
       "      <td>-81.878056</td>\n",
       "      <td>NaN</td>\n",
       "      <td>NaN</td>\n",
       "      <td>...</td>\n",
       "      <td>Personal</td>\n",
       "      <td>NaN</td>\n",
       "      <td>3.0</td>\n",
       "      <td>NaN</td>\n",
       "      <td>NaN</td>\n",
       "      <td>NaN</td>\n",
       "      <td>IMC</td>\n",
       "      <td>Cruise</td>\n",
       "      <td>Probable Cause</td>\n",
       "      <td>26-02-2007</td>\n",
       "    </tr>\n",
       "    <tr>\n",
       "      <th>3</th>\n",
       "      <td>20001218X45448</td>\n",
       "      <td>Accident</td>\n",
       "      <td>LAX96LA321</td>\n",
       "      <td>1977-06-19</td>\n",
       "      <td>EUREKA, CA</td>\n",
       "      <td>United States</td>\n",
       "      <td>NaN</td>\n",
       "      <td>NaN</td>\n",
       "      <td>NaN</td>\n",
       "      <td>NaN</td>\n",
       "      <td>...</td>\n",
       "      <td>Personal</td>\n",
       "      <td>NaN</td>\n",
       "      <td>2.0</td>\n",
       "      <td>0.0</td>\n",
       "      <td>0.0</td>\n",
       "      <td>0.0</td>\n",
       "      <td>IMC</td>\n",
       "      <td>Cruise</td>\n",
       "      <td>Probable Cause</td>\n",
       "      <td>12-09-2000</td>\n",
       "    </tr>\n",
       "    <tr>\n",
       "      <th>4</th>\n",
       "      <td>20041105X01764</td>\n",
       "      <td>Accident</td>\n",
       "      <td>CHI79FA064</td>\n",
       "      <td>1979-08-02</td>\n",
       "      <td>Canton, OH</td>\n",
       "      <td>United States</td>\n",
       "      <td>NaN</td>\n",
       "      <td>NaN</td>\n",
       "      <td>NaN</td>\n",
       "      <td>NaN</td>\n",
       "      <td>...</td>\n",
       "      <td>Personal</td>\n",
       "      <td>NaN</td>\n",
       "      <td>1.0</td>\n",
       "      <td>2.0</td>\n",
       "      <td>NaN</td>\n",
       "      <td>0.0</td>\n",
       "      <td>VMC</td>\n",
       "      <td>Approach</td>\n",
       "      <td>Probable Cause</td>\n",
       "      <td>16-04-1980</td>\n",
       "    </tr>\n",
       "  </tbody>\n",
       "</table>\n",
       "<p>5 rows × 31 columns</p>\n",
       "</div>"
      ],
      "text/plain": [
       "         Event.Id Investigation.Type Accident.Number  Event.Date  \\\n",
       "0  20001218X45444           Accident      SEA87LA080  1948-10-24   \n",
       "1  20001218X45447           Accident      LAX94LA336  1962-07-19   \n",
       "2  20061025X01555           Accident      NYC07LA005  1974-08-30   \n",
       "3  20001218X45448           Accident      LAX96LA321  1977-06-19   \n",
       "4  20041105X01764           Accident      CHI79FA064  1979-08-02   \n",
       "\n",
       "          Location        Country   Latitude  Longitude Airport.Code  \\\n",
       "0  MOOSE CREEK, ID  United States        NaN        NaN          NaN   \n",
       "1   BRIDGEPORT, CA  United States        NaN        NaN          NaN   \n",
       "2    Saltville, VA  United States  36.922223 -81.878056          NaN   \n",
       "3       EUREKA, CA  United States        NaN        NaN          NaN   \n",
       "4       Canton, OH  United States        NaN        NaN          NaN   \n",
       "\n",
       "  Airport.Name  ... Purpose.of.flight Air.carrier Total.Fatal.Injuries  \\\n",
       "0          NaN  ...          Personal         NaN                  2.0   \n",
       "1          NaN  ...          Personal         NaN                  4.0   \n",
       "2          NaN  ...          Personal         NaN                  3.0   \n",
       "3          NaN  ...          Personal         NaN                  2.0   \n",
       "4          NaN  ...          Personal         NaN                  1.0   \n",
       "\n",
       "  Total.Serious.Injuries Total.Minor.Injuries Total.Uninjured  \\\n",
       "0                    0.0                  0.0             0.0   \n",
       "1                    0.0                  0.0             0.0   \n",
       "2                    NaN                  NaN             NaN   \n",
       "3                    0.0                  0.0             0.0   \n",
       "4                    2.0                  NaN             0.0   \n",
       "\n",
       "  Weather.Condition  Broad.phase.of.flight   Report.Status Publication.Date  \n",
       "0               UNK                 Cruise  Probable Cause              NaN  \n",
       "1               UNK                Unknown  Probable Cause       19-09-1996  \n",
       "2               IMC                 Cruise  Probable Cause       26-02-2007  \n",
       "3               IMC                 Cruise  Probable Cause       12-09-2000  \n",
       "4               VMC               Approach  Probable Cause       16-04-1980  \n",
       "\n",
       "[5 rows x 31 columns]"
      ]
     },
     "execution_count": 71,
     "metadata": {},
     "output_type": "execute_result"
    }
   ],
   "source": [
    "# Viewing the first 5 rows of the dataset\n",
    "aviation_data.head(5)"
   ]
  },
  {
   "cell_type": "markdown",
   "id": "c02afe91",
   "metadata": {},
   "source": [
    "### US State Codes Data"
   ]
  },
  {
   "cell_type": "markdown",
   "id": "214bec87",
   "metadata": {},
   "source": [
    "The US State Codes data has the USA states listed in one column, and the corresponding abbreviations for the states listed in the other column."
   ]
  },
  {
   "cell_type": "code",
   "execution_count": 72,
   "id": "07d0cdee",
   "metadata": {},
   "outputs": [
    {
     "data": {
      "text/html": [
       "<div>\n",
       "<style scoped>\n",
       "    .dataframe tbody tr th:only-of-type {\n",
       "        vertical-align: middle;\n",
       "    }\n",
       "\n",
       "    .dataframe tbody tr th {\n",
       "        vertical-align: top;\n",
       "    }\n",
       "\n",
       "    .dataframe thead th {\n",
       "        text-align: right;\n",
       "    }\n",
       "</style>\n",
       "<table border=\"1\" class=\"dataframe\">\n",
       "  <thead>\n",
       "    <tr style=\"text-align: right;\">\n",
       "      <th></th>\n",
       "      <th>US_State</th>\n",
       "      <th>Abbreviation</th>\n",
       "    </tr>\n",
       "  </thead>\n",
       "  <tbody>\n",
       "    <tr>\n",
       "      <th>0</th>\n",
       "      <td>Alabama</td>\n",
       "      <td>AL</td>\n",
       "    </tr>\n",
       "    <tr>\n",
       "      <th>1</th>\n",
       "      <td>Alaska</td>\n",
       "      <td>AK</td>\n",
       "    </tr>\n",
       "    <tr>\n",
       "      <th>2</th>\n",
       "      <td>Arizona</td>\n",
       "      <td>AZ</td>\n",
       "    </tr>\n",
       "    <tr>\n",
       "      <th>3</th>\n",
       "      <td>Arkansas</td>\n",
       "      <td>AR</td>\n",
       "    </tr>\n",
       "    <tr>\n",
       "      <th>4</th>\n",
       "      <td>California</td>\n",
       "      <td>CA</td>\n",
       "    </tr>\n",
       "  </tbody>\n",
       "</table>\n",
       "</div>"
      ],
      "text/plain": [
       "     US_State Abbreviation\n",
       "0     Alabama           AL\n",
       "1      Alaska           AK\n",
       "2     Arizona           AZ\n",
       "3    Arkansas           AR\n",
       "4  California           CA"
      ]
     },
     "execution_count": 72,
     "metadata": {},
     "output_type": "execute_result"
    }
   ],
   "source": [
    "# Viewing the first five rows of the US State codes data.\n",
    "state_codes.head(5)"
   ]
  },
  {
   "cell_type": "markdown",
   "id": "0f3fc7eb",
   "metadata": {},
   "source": [
    "Summary of unique values in the categorical columns"
   ]
  },
  {
   "cell_type": "code",
   "execution_count": null,
   "id": "e46ed12c",
   "metadata": {},
   "outputs": [],
   "source": [
    "# List of non-numeric columns\n",
    "non_numeric_columns = [\n",
    "    'investigation_type', 'event_date', 'location', 'country', \n",
    "    'injury_severity', 'aircraft_damage', 'aircraft_category', \n",
    "    'make', 'model', 'amateur_built', 'engine_type', \n",
    "    'purpose_of_flight', 'weather_condition', 'broad_phase_of_flight'\n",
    "]\n",
    "\n",
    "# Display unique values for each non-numeric column\n",
    "for column in non_numeric_columns:\n",
    "    print(f\"Unique values in {column} - {aviation_data[column].nunique()} values:\")\n",
    "    print(aviation_data[column].unique())\n",
    "    print(\"\\n\")\n"
   ]
  },
  {
   "cell_type": "markdown",
   "id": "9772149e",
   "metadata": {},
   "source": [
    "## Data Preparation"
   ]
  },
  {
   "cell_type": "markdown",
   "id": "4b8b7ed6",
   "metadata": {},
   "source": [
    "I am mostly interested in getting the data from the incidents that occurred in the USA, analyzing the states in which they occurred, the periods, and the broad phase of flight for my analysis."
   ]
  },
  {
   "cell_type": "markdown",
   "id": "d5bab04d",
   "metadata": {},
   "source": [
    "### Data Cleaning"
   ]
  },
  {
   "cell_type": "markdown",
   "id": "0efa0516",
   "metadata": {},
   "source": [
    "For the Aviation dataset, I make it easier to work with by normalizing columns names and dropping unnecessary columns\n",
    "The columns include those that I will not be needing in my analysis, and others like longitude and latitude which have an insane number of missing values."
   ]
  },
  {
   "cell_type": "code",
   "execution_count": 73,
   "id": "3c306665",
   "metadata": {},
   "outputs": [
    {
     "data": {
      "text/plain": [
       "Index(['investigation_type', 'event_date', 'location', 'country',\n",
       "       'injury_severity', 'aircraft_damage', 'aircraft_category', 'make',\n",
       "       'model', 'amateur_built', 'number_of_engines', 'engine_type',\n",
       "       'purpose_of_flight', 'total_fatal_injuries', 'total_serious_injuries',\n",
       "       'total_minor_injuries', 'total_uninjured', 'weather_condition',\n",
       "       'broad_phase_of_flight'],\n",
       "      dtype='object')"
      ]
     },
     "execution_count": 73,
     "metadata": {},
     "output_type": "execute_result"
    }
   ],
   "source": [
    "# Making columns easier to use\n",
    "aviation_data.columns = aviation_data.columns.str.lower().str.replace('.', '_', regex=False)\n",
    "\n",
    "# Dropping unnecessary columns\n",
    "aviation_data.drop(columns=[\n",
    "    'event_id', 'accident_number', 'latitude', 'longitude', \n",
    "    'airport_code', 'airport_name', 'registration_number', \n",
    "    'far_description', 'schedule', 'air_carrier', \n",
    "    'report_status', 'publication_date'\n",
    "], inplace=True)\n",
    "\n",
    "# Confirming if the columns have actually been dropped\n",
    "aviation_data.columns"
   ]
  },
  {
   "cell_type": "code",
   "execution_count": 74,
   "id": "a3c92140",
   "metadata": {},
   "outputs": [
    {
     "data": {
      "text/plain": [
       "investigation_type            0\n",
       "event_date                    0\n",
       "location                     52\n",
       "country                     226\n",
       "injury_severity            1000\n",
       "aircraft_damage            3194\n",
       "aircraft_category         56602\n",
       "make                         63\n",
       "model                        92\n",
       "amateur_built               102\n",
       "number_of_engines          6084\n",
       "engine_type                7096\n",
       "purpose_of_flight          6192\n",
       "total_fatal_injuries      11401\n",
       "total_serious_injuries    12510\n",
       "total_minor_injuries      11933\n",
       "total_uninjured            5912\n",
       "weather_condition          4492\n",
       "broad_phase_of_flight     27165\n",
       "dtype: int64"
      ]
     },
     "execution_count": 74,
     "metadata": {},
     "output_type": "execute_result"
    }
   ],
   "source": [
    "# Getting the number of null values in the columns\n",
    "aviation_data.isna().sum()"
   ]
  },
  {
   "cell_type": "markdown",
   "id": "ba5a5e57",
   "metadata": {},
   "source": [
    "###### Handling values in the aircraft_category column"
   ]
  },
  {
   "cell_type": "markdown",
   "id": "aec06d0d",
   "metadata": {},
   "source": [
    "More than half of the records are null (56602) as seen above. \n",
    "The value_counts() function can give a further breakdown on the distribution of the values:"
   ]
  },
  {
   "cell_type": "code",
   "execution_count": 75,
   "id": "59a29615",
   "metadata": {},
   "outputs": [
    {
     "data": {
      "text/plain": [
       "aircraft_category\n",
       "Airplane             27617\n",
       "Helicopter            3440\n",
       "Glider                 508\n",
       "Balloon                231\n",
       "Gyrocraft              173\n",
       "Weight-Shift           161\n",
       "Powered Parachute       91\n",
       "Ultralight              30\n",
       "Unknown                 14\n",
       "WSFT                     9\n",
       "Powered-Lift             5\n",
       "Blimp                    4\n",
       "UNK                      2\n",
       "Rocket                   1\n",
       "ULTR                     1\n",
       "Name: count, dtype: int64"
      ]
     },
     "execution_count": 75,
     "metadata": {},
     "output_type": "execute_result"
    }
   ],
   "source": [
    "# Using value_counts() function to see the distribution of the values\n",
    "aviation_data['aircraft_category'].value_counts()"
   ]
  },
  {
   "cell_type": "markdown",
   "id": "5bf9ea23",
   "metadata": {},
   "source": [
    "Some categories are rare or synonymous, so I will:\n",
    "\n",
    "Merge \"Unknown\" and \"UNK\" into a single category.\n",
    "Merge \"Ultralight\" and \"ULTR\" since they might represent similar aircraft types.\n",
    "\n",
    "This simplifies the data and reduces noise."
   ]
  },
  {
   "cell_type": "code",
   "execution_count": 76,
   "id": "bf59eebd",
   "metadata": {},
   "outputs": [],
   "source": [
    "# Merging the synonymous categories\n",
    "aviation_data['aircraft_category'] = aviation_data['aircraft_category'].replace({'UNK': 'Unknown', 'ULTR': 'Ultralight'})"
   ]
  },
  {
   "cell_type": "markdown",
   "id": "5c840f53",
   "metadata": {},
   "source": [
    "I will impute Null Values with \"Unknown\"\n",
    "Why: Since aircraft_category is missing in a large portion of the data, filling it with \"Unknown\" avoids discarding valuable rows while retaining its neutral meaning.\n",
    "Rationale: This keeps our dataset complete for analysis without introducing bias."
   ]
  },
  {
   "cell_type": "code",
   "execution_count": 77,
   "id": "12b3b31c",
   "metadata": {},
   "outputs": [],
   "source": [
    "# Imputing null values with unknown\n",
    "aviation_data['aircraft_category'].fillna('Unknown', inplace=True)"
   ]
  },
  {
   "cell_type": "code",
   "execution_count": 78,
   "id": "6a695649",
   "metadata": {},
   "outputs": [
    {
     "data": {
      "text/plain": [
       "aircraft_category\n",
       "Unknown              56618\n",
       "Airplane             27617\n",
       "Helicopter            3440\n",
       "Glider                 508\n",
       "Balloon                231\n",
       "Gyrocraft              173\n",
       "Weight-Shift           161\n",
       "Powered Parachute       91\n",
       "Ultralight              31\n",
       "WSFT                     9\n",
       "Powered-Lift             5\n",
       "Blimp                    4\n",
       "Rocket                   1\n",
       "Name: count, dtype: int64"
      ]
     },
     "execution_count": 78,
     "metadata": {},
     "output_type": "execute_result"
    }
   ],
   "source": [
    "# Using value_counts() to see how the data looks after implementing the changes\n",
    "aviation_data['aircraft_category'].value_counts()"
   ]
  },
  {
   "cell_type": "code",
   "execution_count": 79,
   "id": "6f0a242b",
   "metadata": {},
   "outputs": [],
   "source": [
    "# Filling missing data in the 'location' column with 'Unknown'\n",
    "aviation_data['location'].fillna('Unknown', inplace=True)\n",
    "\n",
    "# Impute missing country values with unknown\n",
    "aviation_data['country'].fillna('Unknown', inplace=True)"
   ]
  },
  {
   "cell_type": "code",
   "execution_count": 80,
   "id": "fb04fdf8",
   "metadata": {},
   "outputs": [
    {
     "data": {
      "text/plain": [
       "engine_type\n",
       "Reciprocating      69530\n",
       "Turbo Shaft         3609\n",
       "Turbo Prop          3391\n",
       "Turbo Fan           2481\n",
       "Unknown             2051\n",
       "Turbo Jet            703\n",
       "Geared Turbofan       12\n",
       "Electric              10\n",
       "LR                     2\n",
       "NONE                   2\n",
       "Hybrid Rocket          1\n",
       "UNK                    1\n",
       "Name: count, dtype: int64"
      ]
     },
     "execution_count": 80,
     "metadata": {},
     "output_type": "execute_result"
    }
   ],
   "source": [
    "# using value_counts() function to see the distribution of values in the engine_type column\n",
    "aviation_data['engine_type'].value_counts()"
   ]
  },
  {
   "cell_type": "code",
   "execution_count": null,
   "id": "9e75b218",
   "metadata": {},
   "outputs": [],
   "source": [
    "# Getting the two columns to see that mapping\n",
    "aviation_data[['injury_severity','total_fatal_injuries', 'total_minor_injuries']]"
   ]
  },
  {
   "cell_type": "code",
   "execution_count": null,
   "id": "26429ac1",
   "metadata": {},
   "outputs": [],
   "source": [
    "# Extract the number and convert it to a Series\n",
    "extracted_fatalities = aviation_data['injury_severity'].str.extract(r'Fatal\\((\\d+)\\)')[0].astype(float)\n",
    "\n",
    "# Fill missing values in total_fatal_injuries with the extracted numbers\n",
    "aviation_data['total_fatal_injuries'].fillna(extracted_fatalities, inplace=True)\n",
    "\n",
    "# Fill remaining NaN values with 0 for cases like 'Minor' or null injury_severity\n",
    "aviation_data['total_fatal_injuries'].fillna(0, inplace=True)"
   ]
  },
  {
   "cell_type": "code",
   "execution_count": null,
   "id": "1cf5dab4",
   "metadata": {},
   "outputs": [],
   "source": [
    "# Confirm the mapping is in place \n",
    "aviation_data[['injury_severity', 'total_fatal_injuries']].head(20)"
   ]
  },
  {
   "cell_type": "markdown",
   "id": "8db5ec14",
   "metadata": {
    "scrolled": true
   },
   "source": [
    "Some columns are critical for the analysis I want to do, so for some cases I will drop rows with null values in the critical columns. \n",
    "For others like engine_type and numer_of_engines, I will fill them with their mode"
   ]
  },
  {
   "cell_type": "code",
   "execution_count": 106,
   "id": "287cea88",
   "metadata": {},
   "outputs": [
    {
     "data": {
      "text/plain": [
       "location                0\n",
       "country                 0\n",
       "injury_severity         0\n",
       "total_fatal_injuries    0\n",
       "aircraft_damage         0\n",
       "make                    0\n",
       "model                   0\n",
       "amateur_built           0\n",
       "number_of_engines       0\n",
       "engine_type             0\n",
       "dtype: int64"
      ]
     },
     "execution_count": 106,
     "metadata": {},
     "output_type": "execute_result"
    }
   ],
   "source": [
    "# Dropping rows with null values in critical columns\n",
    "aviation_data.dropna(subset=['injury_severity', 'aircraft_damage', 'make', 'model', 'total_fatal_injuries'], inplace=True)\n",
    "\n",
    "# Filling 'amateur_built', 'number_of_engines', and 'engine_type' with their mode\n",
    "for column in ['amateur_built', 'number_of_engines', 'engine_type']:\n",
    "    mode_value = aviation_data[column].mode()[0]\n",
    "    aviation_data[column].fillna(mode_value, inplace=True)\n",
    "\n",
    "# Check remaining nulls in key columns after the changes\n",
    "aviation_data[['location', 'country', 'injury_severity', 'total_fatal_injuries', 'aircraft_damage', \n",
    "               'make', 'model', 'amateur_built', 'number_of_engines', \n",
    "               'engine_type']].isna().sum()"
   ]
  },
  {
   "cell_type": "code",
   "execution_count": 107,
   "id": "2546dcff",
   "metadata": {},
   "outputs": [
    {
     "name": "stdout",
     "output_type": "stream",
     "text": [
      "<class 'pandas.core.frame.DataFrame'>\n",
      "Index: 85121 entries, 0 to 88886\n",
      "Data columns (total 19 columns):\n",
      " #   Column                  Non-Null Count  Dtype  \n",
      "---  ------                  --------------  -----  \n",
      " 0   investigation_type      85121 non-null  object \n",
      " 1   event_date              85121 non-null  object \n",
      " 2   location                85121 non-null  object \n",
      " 3   country                 85121 non-null  object \n",
      " 4   injury_severity         85121 non-null  object \n",
      " 5   aircraft_damage         85121 non-null  object \n",
      " 6   aircraft_category       85121 non-null  object \n",
      " 7   make                    85121 non-null  object \n",
      " 8   model                   85121 non-null  object \n",
      " 9   amateur_built           85121 non-null  object \n",
      " 10  number_of_engines       85121 non-null  float64\n",
      " 11  engine_type             85121 non-null  object \n",
      " 12  purpose_of_flight       81038 non-null  object \n",
      " 13  total_fatal_injuries    85121 non-null  float64\n",
      " 14  total_serious_injuries  72953 non-null  float64\n",
      " 15  total_minor_injuries    73662 non-null  float64\n",
      " 16  total_uninjured         79321 non-null  float64\n",
      " 17  weather_condition       82254 non-null  object \n",
      " 18  broad_phase_of_flight   60226 non-null  object \n",
      "dtypes: float64(5), object(14)\n",
      "memory usage: 13.0+ MB\n"
     ]
    }
   ],
   "source": [
    "aviation_data.info()"
   ]
  },
  {
   "cell_type": "code",
   "execution_count": 112,
   "id": "7d5aa526",
   "metadata": {},
   "outputs": [
    {
     "name": "stdout",
     "output_type": "stream",
     "text": [
      "Updated number of rows: 82530\n"
     ]
    }
   ],
   "source": [
    "# Ensure we drop rows where all three columns are null, while keeping index alignment\n",
    "aviation_data = aviation_data.loc[\n",
    "    aviation_data[['total_serious_injuries', 'total_minor_injuries', 'total_uninjured']].notnull().any(axis=1)\n",
    "]\n",
    "\n",
    "# Check the updated row count\n",
    "print(f\"Updated number of rows: {aviation_data.shape[0]}\")\n"
   ]
  },
  {
   "cell_type": "code",
   "execution_count": 114,
   "id": "2e1cbf32",
   "metadata": {},
   "outputs": [
    {
     "name": "stdout",
     "output_type": "stream",
     "text": [
      "<class 'pandas.core.frame.DataFrame'>\n",
      "Index: 82530 entries, 0 to 88886\n",
      "Data columns (total 19 columns):\n",
      " #   Column                  Non-Null Count  Dtype  \n",
      "---  ------                  --------------  -----  \n",
      " 0   investigation_type      82530 non-null  object \n",
      " 1   event_date              82530 non-null  object \n",
      " 2   location                82530 non-null  object \n",
      " 3   country                 82530 non-null  object \n",
      " 4   injury_severity         82530 non-null  object \n",
      " 5   aircraft_damage         82530 non-null  object \n",
      " 6   aircraft_category       82530 non-null  object \n",
      " 7   make                    82530 non-null  object \n",
      " 8   model                   82530 non-null  object \n",
      " 9   amateur_built           82530 non-null  object \n",
      " 10  number_of_engines       82530 non-null  float64\n",
      " 11  engine_type             82530 non-null  object \n",
      " 12  purpose_of_flight       78733 non-null  object \n",
      " 13  total_fatal_injuries    82530 non-null  float64\n",
      " 14  total_serious_injuries  72953 non-null  float64\n",
      " 15  total_minor_injuries    73662 non-null  float64\n",
      " 16  total_uninjured         79321 non-null  float64\n",
      " 17  weather_condition       79876 non-null  object \n",
      " 18  broad_phase_of_flight   58208 non-null  object \n",
      "dtypes: float64(5), object(14)\n",
      "memory usage: 12.6+ MB\n"
     ]
    }
   ],
   "source": [
    "aviation_data.info()"
   ]
  },
  {
   "cell_type": "markdown",
   "id": "88040735",
   "metadata": {},
   "source": [
    "### Dealing with null values in the injuries columns"
   ]
  },
  {
   "cell_type": "markdown",
   "id": "15eff7f2",
   "metadata": {},
   "source": [
    "We will be filling the missing values based on a grouped average, for the 'make' column.\n",
    "To further that the method will not significantly affect my data, we will be printing the mean before and after imputation"
   ]
  },
  {
   "cell_type": "code",
   "execution_count": 115,
   "id": "49edcf76",
   "metadata": {},
   "outputs": [
    {
     "name": "stdout",
     "output_type": "stream",
     "text": [
      "Mean of total_serious_injuries before imputation: 0.2732032952722986\n",
      "Mean of total_serious_injuries after imputation: 0.2757252462053354\n",
      "Mean of total_minor_injuries before imputation: 0.34992261953245907\n",
      "Mean of total_minor_injuries after imputation: 0.36410996879384416\n",
      "Mean of total_uninjured before imputation: 3.457205531952446\n",
      "Mean of total_uninjured after imputation: 3.4293180652529123\n"
     ]
    },
    {
     "name": "stderr",
     "output_type": "stream",
     "text": [
      "C:\\Users\\HP\\AppData\\Local\\Temp\\ipykernel_18844\\1302985145.py:7: SettingWithCopyWarning: \n",
      "A value is trying to be set on a copy of a slice from a DataFrame\n",
      "\n",
      "See the caveats in the documentation: https://pandas.pydata.org/pandas-docs/stable/user_guide/indexing.html#returning-a-view-versus-a-copy\n",
      "  aviation_data['total_serious_injuries'].fillna(aviation_data.groupby('make')['total_serious_injuries'].transform('mean'), inplace=True)\n",
      "C:\\Users\\HP\\AppData\\Local\\Temp\\ipykernel_18844\\1302985145.py:8: SettingWithCopyWarning: \n",
      "A value is trying to be set on a copy of a slice from a DataFrame\n",
      "\n",
      "See the caveats in the documentation: https://pandas.pydata.org/pandas-docs/stable/user_guide/indexing.html#returning-a-view-versus-a-copy\n",
      "  aviation_data['total_minor_injuries'].fillna(aviation_data.groupby('make')['total_minor_injuries'].transform('mean'), inplace=True)\n",
      "C:\\Users\\HP\\AppData\\Local\\Temp\\ipykernel_18844\\1302985145.py:9: SettingWithCopyWarning: \n",
      "A value is trying to be set on a copy of a slice from a DataFrame\n",
      "\n",
      "See the caveats in the documentation: https://pandas.pydata.org/pandas-docs/stable/user_guide/indexing.html#returning-a-view-versus-a-copy\n",
      "  aviation_data['total_uninjured'].fillna(aviation_data.groupby('make')['total_uninjured'].transform('mean'), inplace=True)\n"
     ]
    }
   ],
   "source": [
    "# Calculate the mean before imputation (using only non-null values)\n",
    "mean_before_serious = aviation_data['total_serious_injuries'].mean()\n",
    "mean_before_minor = aviation_data['total_minor_injuries'].mean()\n",
    "mean_before_uninjured = aviation_data['total_uninjured'].mean()\n",
    "\n",
    "# Fill missing values using group-based means\n",
    "aviation_data['total_serious_injuries'].fillna(aviation_data.groupby('make')['total_serious_injuries'].transform('mean'), inplace=True)\n",
    "aviation_data['total_minor_injuries'].fillna(aviation_data.groupby('make')['total_minor_injuries'].transform('mean'), inplace=True)\n",
    "aviation_data['total_uninjured'].fillna(aviation_data.groupby('make')['total_uninjured'].transform('mean'), inplace=True)\n",
    "\n",
    "# Calculate the mean after imputation\n",
    "mean_after_serious = aviation_data['total_serious_injuries'].mean()\n",
    "mean_after_minor = aviation_data['total_minor_injuries'].mean()\n",
    "mean_after_uninjured = aviation_data['total_uninjured'].mean()\n",
    "\n",
    "# Print the comparison of means before and after imputation\n",
    "print(f\"Mean of total_serious_injuries before imputation: {mean_before_serious}\")\n",
    "print(f\"Mean of total_serious_injuries after imputation: {mean_after_serious}\")\n",
    "print(f\"Mean of total_minor_injuries before imputation: {mean_before_minor}\")\n",
    "print(f\"Mean of total_minor_injuries after imputation: {mean_after_minor}\")\n",
    "print(f\"Mean of total_uninjured before imputation: {mean_before_uninjured}\")\n",
    "print(f\"Mean of total_uninjured after imputation: {mean_after_uninjured}\")"
   ]
  },
  {
   "cell_type": "markdown",
   "id": "ab66c5b9",
   "metadata": {},
   "source": [
    "###### Dealing with the 'purpose_of_flight'  null values"
   ]
  },
  {
   "cell_type": "code",
   "execution_count": 66,
   "id": "da93334c",
   "metadata": {},
   "outputs": [
    {
     "data": {
      "text/plain": [
       "purpose_of_flight\n",
       "Personal                     49049\n",
       "Instructional                10520\n",
       "Unknown                       5954\n",
       "Aerial Application            4695\n",
       "Business                      3923\n",
       "Positioning                   1602\n",
       "Other Work Use                1207\n",
       "Ferry                          805\n",
       "Aerial Observation             773\n",
       "Public Aircraft                707\n",
       "Executive/corporate            525\n",
       "Flight Test                    392\n",
       "Skydiving                      178\n",
       "External Load                  115\n",
       "Public Aircraft - Federal      102\n",
       "Banner Tow                     101\n",
       "Air Race show                   90\n",
       "Public Aircraft - Local         70\n",
       "Public Aircraft - State         61\n",
       "Air Race/show                   56\n",
       "Name: count, dtype: int64"
      ]
     },
     "execution_count": 66,
     "metadata": {},
     "output_type": "execute_result"
    }
   ],
   "source": [
    "# Seeing how the values are distributed\n",
    "aviation_data['purpose_of_flight'].value_counts().head(20)"
   ]
  },
  {
   "cell_type": "markdown",
   "id": "fe831c7a",
   "metadata": {},
   "source": [
    "From the above, we can see that:\n",
    "\n",
    "The most frequent value is Personal (49,049), followed by Instructional and Unknown.\n",
    "These top three categories make up a significant portion of the dataset.\n",
    "Some categories have very few entries.\n",
    "Presence of “Unknown”, indicates an existing category for flights with unidentified purposes.\n",
    "The best approach here is to impute missing values with \"Unknown\"\n",
    "Why: The dataset already uses \"Unknown\" to categorize flights with an unspecified purpose.\n",
    "\n",
    "Benefits:\n",
    "Retains the rows for analysis and avoids introducing bias by favoring any frequent category.  \n",
    "Imputing it with the mode (Personal) in this case would skew the data towards Personal."
   ]
  },
  {
   "cell_type": "code",
   "execution_count": 14,
   "id": "da239891",
   "metadata": {},
   "outputs": [
    {
     "data": {
      "text/plain": [
       "make\n",
       "Cessna                            22227\n",
       "Piper                             12029\n",
       "CESSNA                             4922\n",
       "Beech                              4330\n",
       "PIPER                              2841\n",
       "Bell                               2134\n",
       "Boeing                             1594\n",
       "BOEING                             1151\n",
       "Grumman                            1094\n",
       "Mooney                             1092\n",
       "BEECH                              1042\n",
       "Robinson                            946\n",
       "Bellanca                            886\n",
       "Hughes                              795\n",
       "Schweizer                           629\n",
       "Air Tractor                         595\n",
       "BELL                                588\n",
       "Mcdonnell Douglas                   526\n",
       "Aeronca                             487\n",
       "Maule                               445\n",
       "Champion                            428\n",
       "De Havilland                        382\n",
       "Aero Commander                      360\n",
       "Stinson                             348\n",
       "Aerospatiale                        342\n",
       "Rockwell                            331\n",
       "Taylorcraft                         321\n",
       "Luscombe                            319\n",
       "Hiller                              311\n",
       "North American                      304\n",
       "ROBINSON                            284\n",
       "Douglas                             255\n",
       "AIRBUS                              251\n",
       "Enstrom                             247\n",
       "MOONEY                              242\n",
       "Grumman American                    224\n",
       "ROBINSON HELICOPTER                 221\n",
       "CIRRUS DESIGN CORP                  218\n",
       "AIR TRACTOR INC                     217\n",
       "Ayres                               215\n",
       "ROBINSON HELICOPTER COMPANY         179\n",
       "BELLANCA                            159\n",
       "Sikorsky                            156\n",
       "Ercoupe (eng & Research Corp.)      156\n",
       "Swearingen                          151\n",
       "Name: count, dtype: int64"
      ]
     },
     "execution_count": 14,
     "metadata": {},
     "output_type": "execute_result"
    }
   ],
   "source": [
    "aviation_data['make'].value_counts().head(45)"
   ]
  },
  {
   "cell_type": "code",
   "execution_count": 15,
   "id": "52ce9a09",
   "metadata": {},
   "outputs": [
    {
     "data": {
      "text/plain": [
       "engine_type\n",
       "Reciprocating      69530\n",
       "Turbo Shaft         3609\n",
       "Turbo Prop          3391\n",
       "Turbo Fan           2481\n",
       "Unknown             2051\n",
       "Turbo Jet            703\n",
       "Geared Turbofan       12\n",
       "Electric              10\n",
       "LR                     2\n",
       "NONE                   2\n",
       "Hybrid Rocket          1\n",
       "UNK                    1\n",
       "Name: count, dtype: int64"
      ]
     },
     "execution_count": 15,
     "metadata": {},
     "output_type": "execute_result"
    }
   ],
   "source": []
  },
  {
   "cell_type": "code",
   "execution_count": 16,
   "id": "ed0b7684",
   "metadata": {},
   "outputs": [
    {
     "data": {
      "text/plain": [
       "location             0\n",
       "country              0\n",
       "injury_severity      0\n",
       "aircraft_damage      0\n",
       "make                 0\n",
       "model                0\n",
       "amateur_built        0\n",
       "number_of_engines    0\n",
       "engine_type          0\n",
       "dtype: int64"
      ]
     },
     "execution_count": 16,
     "metadata": {},
     "output_type": "execute_result"
    }
   ],
   "source": []
  },
  {
   "cell_type": "code",
   "execution_count": 116,
   "id": "b448c601",
   "metadata": {},
   "outputs": [
    {
     "name": "stdout",
     "output_type": "stream",
     "text": [
      "<class 'pandas.core.frame.DataFrame'>\n",
      "Index: 82530 entries, 0 to 88886\n",
      "Data columns (total 19 columns):\n",
      " #   Column                  Non-Null Count  Dtype  \n",
      "---  ------                  --------------  -----  \n",
      " 0   investigation_type      82530 non-null  object \n",
      " 1   event_date              82530 non-null  object \n",
      " 2   location                82530 non-null  object \n",
      " 3   country                 82530 non-null  object \n",
      " 4   injury_severity         82530 non-null  object \n",
      " 5   aircraft_damage         82530 non-null  object \n",
      " 6   aircraft_category       82530 non-null  object \n",
      " 7   make                    82530 non-null  object \n",
      " 8   model                   82530 non-null  object \n",
      " 9   amateur_built           82530 non-null  object \n",
      " 10  number_of_engines       82530 non-null  float64\n",
      " 11  engine_type             82530 non-null  object \n",
      " 12  purpose_of_flight       78733 non-null  object \n",
      " 13  total_fatal_injuries    82530 non-null  float64\n",
      " 14  total_serious_injuries  81740 non-null  float64\n",
      " 15  total_minor_injuries    81789 non-null  float64\n",
      " 16  total_uninjured         82105 non-null  float64\n",
      " 17  weather_condition       79876 non-null  object \n",
      " 18  broad_phase_of_flight   58208 non-null  object \n",
      "dtypes: float64(5), object(14)\n",
      "memory usage: 12.6+ MB\n"
     ]
    }
   ],
   "source": [
    "aviation_data.info()"
   ]
  },
  {
   "cell_type": "code",
   "execution_count": 117,
   "id": "f480e115",
   "metadata": {},
   "outputs": [
    {
     "name": "stderr",
     "output_type": "stream",
     "text": [
      "C:\\Users\\HP\\AppData\\Local\\Temp\\ipykernel_18844\\884291403.py:2: SettingWithCopyWarning: \n",
      "A value is trying to be set on a copy of a slice from a DataFrame\n",
      "\n",
      "See the caveats in the documentation: https://pandas.pydata.org/pandas-docs/stable/user_guide/indexing.html#returning-a-view-versus-a-copy\n",
      "  aviation_data['purpose_of_flight'].fillna('Unknown', inplace=True)\n"
     ]
    }
   ],
   "source": [
    "# Filling null values in 'purpose_of_flight' column with 'Unknown'\n",
    "aviation_data['purpose_of_flight'].fillna('Unknown', inplace=True)"
   ]
  },
  {
   "cell_type": "code",
   "execution_count": 118,
   "id": "c8243636",
   "metadata": {},
   "outputs": [
    {
     "data": {
      "text/plain": [
       "broad_phase_of_flight\n",
       "Landing        15143\n",
       "Takeoff        12024\n",
       "Cruise          9481\n",
       "Maneuvering     7488\n",
       "Approach        6127\n",
       "Taxi            1858\n",
       "Climb           1811\n",
       "Descent         1640\n",
       "Go-around       1296\n",
       "Standing         743\n",
       "Unknown          488\n",
       "Other            109\n",
       "Name: count, dtype: int64"
      ]
     },
     "execution_count": 118,
     "metadata": {},
     "output_type": "execute_result"
    }
   ],
   "source": [
    "aviation_data['broad_phase_of_flight'].value_counts().head(25)"
   ]
  },
  {
   "cell_type": "markdown",
   "id": "dd970491",
   "metadata": {},
   "source": [
    "### Dealing with values in the weather_condition column"
   ]
  },
  {
   "cell_type": "code",
   "execution_count": 120,
   "id": "11da643e",
   "metadata": {},
   "outputs": [
    {
     "data": {
      "text/plain": [
       "weather_condition\n",
       "VMC        73714\n",
       "IMC         5228\n",
       "Unknown     3588\n",
       "Name: count, dtype: int64"
      ]
     },
     "execution_count": 120,
     "metadata": {},
     "output_type": "execute_result"
    }
   ],
   "source": [
    "aviation_data['weather_condition'].value_counts()"
   ]
  },
  {
   "cell_type": "code",
   "execution_count": 119,
   "id": "9f5feaad",
   "metadata": {},
   "outputs": [
    {
     "name": "stderr",
     "output_type": "stream",
     "text": [
      "C:\\Users\\HP\\AppData\\Local\\Temp\\ipykernel_18844\\3212304301.py:2: SettingWithCopyWarning: \n",
      "A value is trying to be set on a copy of a slice from a DataFrame\n",
      "\n",
      "See the caveats in the documentation: https://pandas.pydata.org/pandas-docs/stable/user_guide/indexing.html#returning-a-view-versus-a-copy\n",
      "  aviation_data['weather_condition'].replace(['UNK', 'Unk'], 'Unknown', inplace=True)\n",
      "C:\\Users\\HP\\AppData\\Local\\Temp\\ipykernel_18844\\3212304301.py:5: SettingWithCopyWarning: \n",
      "A value is trying to be set on a copy of a slice from a DataFrame\n",
      "\n",
      "See the caveats in the documentation: https://pandas.pydata.org/pandas-docs/stable/user_guide/indexing.html#returning-a-view-versus-a-copy\n",
      "  aviation_data['weather_condition'].fillna('Unknown', inplace=True)\n"
     ]
    }
   ],
   "source": [
    "# Standardize \"UNK\" and \"Unk\" to \"Unknown\"\n",
    "aviation_data['weather_condition'].replace(['UNK', 'Unk'], 'Unknown', inplace=True)\n",
    "\n",
    "# Impute missing values with \"Unknown\"\n",
    "aviation_data['weather_condition'].fillna('Unknown', inplace=True)"
   ]
  },
  {
   "cell_type": "code",
   "execution_count": 121,
   "id": "2a61d961",
   "metadata": {},
   "outputs": [
    {
     "name": "stderr",
     "output_type": "stream",
     "text": [
      "C:\\Users\\HP\\AppData\\Local\\Temp\\ipykernel_18844\\218280043.py:2: SettingWithCopyWarning: \n",
      "A value is trying to be set on a copy of a slice from a DataFrame\n",
      "\n",
      "See the caveats in the documentation: https://pandas.pydata.org/pandas-docs/stable/user_guide/indexing.html#returning-a-view-versus-a-copy\n",
      "  aviation_data['broad_phase_of_flight'].fillna('Unknown', inplace=True)\n"
     ]
    }
   ],
   "source": [
    "# Impute missing values with 'Unknown'\n",
    "aviation_data['broad_phase_of_flight'].fillna('Unknown', inplace=True)"
   ]
  },
  {
   "cell_type": "code",
   "execution_count": 123,
   "id": "63e70b12",
   "metadata": {},
   "outputs": [
    {
     "name": "stdout",
     "output_type": "stream",
     "text": [
      "<class 'pandas.core.frame.DataFrame'>\n",
      "Index: 82530 entries, 0 to 88886\n",
      "Data columns (total 19 columns):\n",
      " #   Column                  Non-Null Count  Dtype  \n",
      "---  ------                  --------------  -----  \n",
      " 0   investigation_type      82530 non-null  object \n",
      " 1   event_date              82530 non-null  object \n",
      " 2   location                82530 non-null  object \n",
      " 3   country                 82530 non-null  object \n",
      " 4   injury_severity         82530 non-null  object \n",
      " 5   aircraft_damage         82530 non-null  object \n",
      " 6   aircraft_category       82530 non-null  object \n",
      " 7   make                    82530 non-null  object \n",
      " 8   model                   82530 non-null  object \n",
      " 9   amateur_built           82530 non-null  object \n",
      " 10  number_of_engines       82530 non-null  float64\n",
      " 11  engine_type             82530 non-null  object \n",
      " 12  purpose_of_flight       82530 non-null  object \n",
      " 13  total_fatal_injuries    82530 non-null  float64\n",
      " 14  total_serious_injuries  81740 non-null  float64\n",
      " 15  total_minor_injuries    81789 non-null  float64\n",
      " 16  total_uninjured         82105 non-null  float64\n",
      " 17  weather_condition       82530 non-null  object \n",
      " 18  broad_phase_of_flight   82530 non-null  object \n",
      "dtypes: float64(5), object(14)\n",
      "memory usage: 12.6+ MB\n"
     ]
    }
   ],
   "source": [
    "aviation_data.info()"
   ]
  },
  {
   "cell_type": "code",
   "execution_count": 124,
   "id": "7fc01d6d",
   "metadata": {},
   "outputs": [
    {
     "name": "stderr",
     "output_type": "stream",
     "text": [
      "C:\\Users\\HP\\AppData\\Local\\Temp\\ipykernel_18844\\2270998105.py:1: SettingWithCopyWarning: \n",
      "A value is trying to be set on a copy of a slice from a DataFrame\n",
      "\n",
      "See the caveats in the documentation: https://pandas.pydata.org/pandas-docs/stable/user_guide/indexing.html#returning-a-view-versus-a-copy\n",
      "  aviation_data.fillna(0, inplace=True)\n"
     ]
    }
   ],
   "source": [
    "# Filling the little remaining null values with 0\n",
    "aviation_data.fillna(0, inplace=True)"
   ]
  },
  {
   "cell_type": "markdown",
   "id": "ab8d92bf",
   "metadata": {},
   "source": [
    "Dealing with the country column"
   ]
  },
  {
   "cell_type": "code",
   "execution_count": 128,
   "id": "f9355e14",
   "metadata": {},
   "outputs": [
    {
     "name": "stdout",
     "output_type": "stream",
     "text": [
      "country\n",
      "USA               78158\n",
      "Brazil              304\n",
      "Canada              255\n",
      "Mexico              241\n",
      "Not Specified       230\n",
      "Bahamas             188\n",
      "United Kingdom      177\n",
      "Australia           158\n",
      "France              144\n",
      "Spain               139\n",
      "Name: count, dtype: int64\n"
     ]
    },
    {
     "name": "stderr",
     "output_type": "stream",
     "text": [
      "C:\\Users\\HP\\AppData\\Local\\Temp\\ipykernel_18844\\4208598510.py:19: SettingWithCopyWarning: \n",
      "A value is trying to be set on a copy of a slice from a DataFrame.\n",
      "Try using .loc[row_indexer,col_indexer] = value instead\n",
      "\n",
      "See the caveats in the documentation: https://pandas.pydata.org/pandas-docs/stable/user_guide/indexing.html#returning-a-view-versus-a-copy\n",
      "  aviation_data['country'] = aviation_data['country'].replace(country_mapping)\n"
     ]
    }
   ],
   "source": [
    "# Update the mapping dictionary to use \"Ivory Coast\"\n",
    "country_mapping = {\n",
    "    'United States': 'USA',\n",
    "    'Unknown': 'Not Specified',\n",
    "    'MISSING': 'Not Specified',\n",
    "    'GULF OF MEXICO': 'Other',\n",
    "    'PACIFIC OCEAN': 'Other',\n",
    "    'ATLANTIC OCEAN': 'Other',\n",
    "    'Saint Vincent and the Grenadines': 'St Vincent And The Grenadines',\n",
    "    'Ivory Coast': 'Ivory Coast',\n",
    "    'Côte d\\'Ivoire': 'Ivory Coast',\n",
    "    \"Cote D'ivoire\": 'Ivory Coast',\n",
    "    'South Korean': 'South Korea',\n",
    "    'Republic of North Macedonia': 'North Macedonia',\n",
    "    'Antigua And Barbuda': 'Antigua and Barbuda'\n",
    "}\n",
    "\n",
    "# Apply the updated mapping\n",
    "aviation_data['country'] = aviation_data['country'].replace(country_mapping)\n",
    "\n",
    "# Check the unique values after standardization\n",
    "print(aviation_data['country'].value_counts().head(10))"
   ]
  },
  {
   "cell_type": "code",
   "execution_count": 125,
   "id": "a3c4cfd3",
   "metadata": {},
   "outputs": [
    {
     "name": "stdout",
     "output_type": "stream",
     "text": [
      "<class 'pandas.core.frame.DataFrame'>\n",
      "Index: 82530 entries, 0 to 88886\n",
      "Data columns (total 19 columns):\n",
      " #   Column                  Non-Null Count  Dtype  \n",
      "---  ------                  --------------  -----  \n",
      " 0   investigation_type      82530 non-null  object \n",
      " 1   event_date              82530 non-null  object \n",
      " 2   location                82530 non-null  object \n",
      " 3   country                 82530 non-null  object \n",
      " 4   injury_severity         82530 non-null  object \n",
      " 5   aircraft_damage         82530 non-null  object \n",
      " 6   aircraft_category       82530 non-null  object \n",
      " 7   make                    82530 non-null  object \n",
      " 8   model                   82530 non-null  object \n",
      " 9   amateur_built           82530 non-null  object \n",
      " 10  number_of_engines       82530 non-null  float64\n",
      " 11  engine_type             82530 non-null  object \n",
      " 12  purpose_of_flight       82530 non-null  object \n",
      " 13  total_fatal_injuries    82530 non-null  float64\n",
      " 14  total_serious_injuries  82530 non-null  float64\n",
      " 15  total_minor_injuries    82530 non-null  float64\n",
      " 16  total_uninjured         82530 non-null  float64\n",
      " 17  weather_condition       82530 non-null  object \n",
      " 18  broad_phase_of_flight   82530 non-null  object \n",
      "dtypes: float64(5), object(14)\n",
      "memory usage: 12.6+ MB\n"
     ]
    }
   ],
   "source": [
    "aviation_data.info()"
   ]
  },
  {
   "cell_type": "markdown",
   "id": "3d76684b",
   "metadata": {},
   "source": [
    "## Feature Engineering"
   ]
  },
  {
   "cell_type": "markdown",
   "id": "b4e120d6",
   "metadata": {
    "scrolled": true
   },
   "source": [
    "Manipulating the event_date in order to get the month and the year"
   ]
  },
  {
   "cell_type": "code",
   "execution_count": 126,
   "id": "909415d3",
   "metadata": {},
   "outputs": [
    {
     "name": "stdout",
     "output_type": "stream",
     "text": [
      "      event_date  year  month\n",
      "88842 2022-12-04  2022     12\n",
      "88843 2022-12-04  2022     12\n",
      "88844 2022-12-04  2022     12\n",
      "88845 2022-12-05  2022     12\n",
      "88846 2022-12-05  2022     12\n",
      "88847 2022-12-05  2022     12\n",
      "88848 2022-12-05  2022     12\n",
      "88854 2022-12-07  2022     12\n",
      "88856 2022-12-08  2022     12\n",
      "88857 2022-12-08  2022     12\n",
      "88858 2022-12-09  2022     12\n",
      "88859 2022-12-09  2022     12\n",
      "88861 2022-12-10  2022     12\n",
      "88865 2022-12-12  2022     12\n",
      "88867 2022-12-12  2022     12\n",
      "88869 2022-12-13  2022     12\n",
      "88873 2022-12-14  2022     12\n",
      "88876 2022-12-15  2022     12\n",
      "88877 2022-12-16  2022     12\n",
      "88886 2022-12-26  2022     12\n"
     ]
    },
    {
     "name": "stderr",
     "output_type": "stream",
     "text": [
      "C:\\Users\\HP\\AppData\\Local\\Temp\\ipykernel_18844\\3672542474.py:2: SettingWithCopyWarning: \n",
      "A value is trying to be set on a copy of a slice from a DataFrame.\n",
      "Try using .loc[row_indexer,col_indexer] = value instead\n",
      "\n",
      "See the caveats in the documentation: https://pandas.pydata.org/pandas-docs/stable/user_guide/indexing.html#returning-a-view-versus-a-copy\n",
      "  aviation_data['event_date'] = pd.to_datetime(aviation_data['event_date'])\n",
      "C:\\Users\\HP\\AppData\\Local\\Temp\\ipykernel_18844\\3672542474.py:5: SettingWithCopyWarning: \n",
      "A value is trying to be set on a copy of a slice from a DataFrame.\n",
      "Try using .loc[row_indexer,col_indexer] = value instead\n",
      "\n",
      "See the caveats in the documentation: https://pandas.pydata.org/pandas-docs/stable/user_guide/indexing.html#returning-a-view-versus-a-copy\n",
      "  aviation_data['year'] = aviation_data['event_date'].dt.year\n",
      "C:\\Users\\HP\\AppData\\Local\\Temp\\ipykernel_18844\\3672542474.py:6: SettingWithCopyWarning: \n",
      "A value is trying to be set on a copy of a slice from a DataFrame.\n",
      "Try using .loc[row_indexer,col_indexer] = value instead\n",
      "\n",
      "See the caveats in the documentation: https://pandas.pydata.org/pandas-docs/stable/user_guide/indexing.html#returning-a-view-versus-a-copy\n",
      "  aviation_data['month'] = aviation_data['event_date'].dt.month\n"
     ]
    }
   ],
   "source": [
    "# Step 1: Convert event_date to datetime\n",
    "aviation_data['event_date'] = pd.to_datetime(aviation_data['event_date'])\n",
    "\n",
    "# Step 2: Extract year and month\n",
    "aviation_data['year'] = aviation_data['event_date'].dt.year\n",
    "aviation_data['month'] = aviation_data['event_date'].dt.month\n",
    "\n",
    "# Display the updated DataFrame to check the new columns\n",
    "print(aviation_data[['event_date', 'year', 'month']].tail(20))"
   ]
  },
  {
   "cell_type": "code",
   "execution_count": 127,
   "id": "91cbee51",
   "metadata": {},
   "outputs": [
    {
     "name": "stdout",
     "output_type": "stream",
     "text": [
      "    month month_name\n",
      "0      10    October\n",
      "1       7       July\n",
      "3       6       June\n",
      "4       8     August\n",
      "5       9  September\n",
      "6       8     August\n",
      "7       1    January\n",
      "8       1    January\n",
      "9       1    January\n",
      "10      1    January\n",
      "11      1    January\n",
      "12      1    January\n",
      "13      1    January\n",
      "14      1    January\n",
      "15      1    January\n",
      "16      1    January\n",
      "17      1    January\n",
      "18      1    January\n",
      "19      1    January\n",
      "20      1    January\n"
     ]
    },
    {
     "name": "stderr",
     "output_type": "stream",
     "text": [
      "C:\\Users\\HP\\AppData\\Local\\Temp\\ipykernel_18844\\3235827038.py:3: SettingWithCopyWarning: \n",
      "A value is trying to be set on a copy of a slice from a DataFrame.\n",
      "Try using .loc[row_indexer,col_indexer] = value instead\n",
      "\n",
      "See the caveats in the documentation: https://pandas.pydata.org/pandas-docs/stable/user_guide/indexing.html#returning-a-view-versus-a-copy\n",
      "  aviation_data['month_name'] = aviation_data['event_date'].dt.strftime('%B')  # Full month name (e.g., January, February)\n"
     ]
    }
   ],
   "source": [
    "# Extract month names using strftime\n",
    "# aviation_data['month_name'] = aviation_data['event_date'].dt.strftime('%b')  # Abbreviated month name (e.g., Jan, Feb)\n",
    "aviation_data['month_name'] = aviation_data['event_date'].dt.strftime('%B')  # Full month name (e.g., January, February)\n",
    "\n",
    "# Display the updated DataFrame\n",
    "print(aviation_data[['month', 'month_name']].head(20))"
   ]
  },
  {
   "cell_type": "code",
   "execution_count": 129,
   "id": "d9e9dae6",
   "metadata": {},
   "outputs": [
    {
     "name": "stderr",
     "output_type": "stream",
     "text": [
      "C:\\Users\\HP\\AppData\\Local\\Temp\\ipykernel_18844\\3647374130.py:2: SettingWithCopyWarning: \n",
      "A value is trying to be set on a copy of a slice from a DataFrame\n",
      "\n",
      "See the caveats in the documentation: https://pandas.pydata.org/pandas-docs/stable/user_guide/indexing.html#returning-a-view-versus-a-copy\n",
      "  aviation_data.drop('injury_severity', axis=1, inplace=True)\n"
     ]
    }
   ],
   "source": [
    "# Dropping the injury severity column because we already have columns like total_fatal_injuries\n",
    "aviation_data.drop('injury_severity', axis=1, inplace=True)"
   ]
  },
  {
   "cell_type": "code",
   "execution_count": 130,
   "id": "6a840d52",
   "metadata": {},
   "outputs": [
    {
     "data": {
      "text/plain": [
       "aircraft_damage\n",
       "Substantial    63243\n",
       "Destroyed      16684\n",
       "Minor           2511\n",
       "Unknown           92\n",
       "Name: count, dtype: int64"
      ]
     },
     "execution_count": 130,
     "metadata": {},
     "output_type": "execute_result"
    }
   ],
   "source": [
    "aviation_data['aircraft_damage'].value_counts()"
   ]
  },
  {
   "cell_type": "code",
   "execution_count": 131,
   "id": "26fdeabc",
   "metadata": {},
   "outputs": [
    {
     "name": "stdout",
     "output_type": "stream",
     "text": [
      "aircraft_damage\n",
      "Substantial    63243\n",
      "Destroyed      16684\n",
      "Minor           2511\n",
      "Name: count, dtype: int64\n"
     ]
    }
   ],
   "source": [
    "# Drop rows with \"Unknown\" in the 'aircraft_damage' column\n",
    "aviation_data = aviation_data[aviation_data['aircraft_damage'] != 'Unknown']\n",
    "\n",
    "# Verify the changes\n",
    "print(aviation_data['aircraft_damage'].value_counts())"
   ]
  },
  {
   "cell_type": "code",
   "execution_count": 132,
   "id": "daee2488",
   "metadata": {},
   "outputs": [],
   "source": [
    "# Create a DataFrame with rows where 'aircraft_category' is not 'Unknown'\n",
    "known_aircraft_data = aviation_data[aviation_data['aircraft_category'] != 'Unknown']\n",
    "\n",
    "# Create a DataFrame with rows where 'aircraft_category' is 'Unknown'\n",
    "unknown_aircraft_data = aviation_data[aviation_data['aircraft_category'] == 'Unknown']"
   ]
  },
  {
   "cell_type": "code",
   "execution_count": 133,
   "id": "d242d950",
   "metadata": {},
   "outputs": [
    {
     "name": "stdout",
     "output_type": "stream",
     "text": [
      "make\n",
      "Cessna      26181\n",
      "Piper       14282\n",
      "Beech        5021\n",
      "Bell         2563\n",
      "Boeing       1348\n",
      "Mooney       1270\n",
      "Grumman      1150\n",
      "Robinson     1121\n",
      "Bellanca     1022\n",
      "Hughes        906\n",
      "Name: count, dtype: int64\n"
     ]
    },
    {
     "name": "stderr",
     "output_type": "stream",
     "text": [
      "C:\\Users\\HP\\AppData\\Local\\Temp\\ipykernel_18844\\1857767596.py:2: SettingWithCopyWarning: \n",
      "A value is trying to be set on a copy of a slice from a DataFrame.\n",
      "Try using .loc[row_indexer,col_indexer] = value instead\n",
      "\n",
      "See the caveats in the documentation: https://pandas.pydata.org/pandas-docs/stable/user_guide/indexing.html#returning-a-view-versus-a-copy\n",
      "  aviation_data['make'] = aviation_data['make'].str.title().str.strip()\n"
     ]
    }
   ],
   "source": [
    "# Standardize 'make' column: convert to title case and strip whitespaces\n",
    "aviation_data['make'] = aviation_data['make'].str.title().str.strip()\n",
    "\n",
    "# Check the unique values and the top 40 after standardization\n",
    "print(aviation_data['make'].value_counts().iloc[0:10])"
   ]
  },
  {
   "cell_type": "markdown",
   "id": "9d4ef9ef",
   "metadata": {},
   "source": [
    "### Getting the incidents from the USA"
   ]
  },
  {
   "cell_type": "markdown",
   "id": "c22c5881",
   "metadata": {},
   "source": [
    "Now I can get the incidents which happened in the USA, and also the specific state where it took place, from the location data."
   ]
  },
  {
   "cell_type": "code",
   "execution_count": 135,
   "id": "93e0186d",
   "metadata": {},
   "outputs": [
    {
     "name": "stdout",
     "output_type": "stream",
     "text": [
      "            location state_abbr     state_name\n",
      "0    MOOSE CREEK, ID         ID          Idaho\n",
      "1     BRIDGEPORT, CA         CA     California\n",
      "3         EUREKA, CA         CA     California\n",
      "4         Canton, OH         OH           Ohio\n",
      "5         BOSTON, MA         MA  Massachusetts\n",
      "6         COTTON, MN         MN      Minnesota\n",
      "7        PULLMAN, WA         WA     Washington\n",
      "8   EAST HANOVER, NJ         NJ     New Jersey\n",
      "9   JACKSONVILLE, FL         FL        Florida\n",
      "10         HOBBS, NM         NM     New Mexico\n"
     ]
    }
   ],
   "source": [
    "# Filter for USA cases\n",
    "usa_data = aviation_data[aviation_data['country'] == 'USA'].copy()\n",
    "# Extract state abbreviation from location (assuming format 'City, State')\n",
    "usa_data['state_abbr'] = usa_data['location'].str.split(',').str[-1].str.strip()\n",
    "\n",
    "# Create a dictionary for mapping abbreviations to state names\n",
    "state_mapping = dict(zip(state_codes['Abbreviation'], state_codes['US_State']))\n",
    "\n",
    "# Add the full state name to the USA DataFrame\n",
    "usa_data['state_name'] = usa_data['state_abbr'].map(state_mapping)\n",
    "print(usa_data[['location', 'state_abbr', 'state_name']].head(10))"
   ]
  },
  {
   "cell_type": "code",
   "execution_count": 136,
   "id": "32a34a1b",
   "metadata": {},
   "outputs": [
    {
     "name": "stdout",
     "output_type": "stream",
     "text": [
      "        State  Case Count\n",
      "0  California        8408\n",
      "1       Texas        5643\n",
      "2      Alaska        5541\n",
      "3     Florida        5521\n",
      "4     Arizona        2699\n",
      "5    Colorado        2532\n",
      "6  Washington        2504\n",
      "7    Michigan        1934\n",
      "8     Georgia        1887\n",
      "9    Illinois        1883\n"
     ]
    }
   ],
   "source": [
    "# Group by state_name and count the number of occurrences\n",
    "state_case_counts = usa_data['state_name'].value_counts()\n",
    "\n",
    "# Convert to a DataFrame for better readability\n",
    "state_case_counts_df = state_case_counts.reset_index()\n",
    "state_case_counts_df.columns = ['State', 'Case Count']\n",
    "\n",
    "# Display the top states with the most cases\n",
    "print(state_case_counts_df.head(10))"
   ]
  },
  {
   "cell_type": "code",
   "execution_count": 139,
   "id": "961f7496",
   "metadata": {},
   "outputs": [
    {
     "name": "stdout",
     "output_type": "stream",
     "text": [
      "<class 'pandas.core.frame.DataFrame'>\n",
      "Index: 78108 entries, 0 to 88886\n",
      "Data columns (total 23 columns):\n",
      " #   Column                  Non-Null Count  Dtype         \n",
      "---  ------                  --------------  -----         \n",
      " 0   investigation_type      78108 non-null  object        \n",
      " 1   event_date              78108 non-null  datetime64[ns]\n",
      " 2   location                78108 non-null  object        \n",
      " 3   country                 78108 non-null  object        \n",
      " 4   aircraft_damage         78108 non-null  object        \n",
      " 5   aircraft_category       78108 non-null  object        \n",
      " 6   make                    78108 non-null  object        \n",
      " 7   model                   78108 non-null  object        \n",
      " 8   amateur_built           78108 non-null  object        \n",
      " 9   number_of_engines       78108 non-null  float64       \n",
      " 10  engine_type             78108 non-null  object        \n",
      " 11  purpose_of_flight       78108 non-null  object        \n",
      " 12  total_fatal_injuries    78108 non-null  float64       \n",
      " 13  total_serious_injuries  78108 non-null  float64       \n",
      " 14  total_minor_injuries    78108 non-null  float64       \n",
      " 15  total_uninjured         78108 non-null  float64       \n",
      " 16  weather_condition       78108 non-null  object        \n",
      " 17  broad_phase_of_flight   78108 non-null  object        \n",
      " 18  year                    78108 non-null  int32         \n",
      " 19  month                   78108 non-null  int32         \n",
      " 20  month_name              78108 non-null  object        \n",
      " 21  state_abbr              78108 non-null  object        \n",
      " 22  state_name              78041 non-null  object        \n",
      "dtypes: datetime64[ns](1), float64(5), int32(2), object(15)\n",
      "memory usage: 13.7+ MB\n"
     ]
    }
   ],
   "source": [
    "usa_data.info()"
   ]
  },
  {
   "cell_type": "markdown",
   "id": "dd8997ce",
   "metadata": {},
   "source": [
    "From the above, we can see that only the state_name column has some null values. We can drop the null values in the usa_data now."
   ]
  },
  {
   "cell_type": "code",
   "execution_count": 140,
   "id": "d7f032e8",
   "metadata": {},
   "outputs": [
    {
     "name": "stdout",
     "output_type": "stream",
     "text": [
      "<class 'pandas.core.frame.DataFrame'>\n",
      "Index: 78041 entries, 0 to 88886\n",
      "Data columns (total 23 columns):\n",
      " #   Column                  Non-Null Count  Dtype         \n",
      "---  ------                  --------------  -----         \n",
      " 0   investigation_type      78041 non-null  object        \n",
      " 1   event_date              78041 non-null  datetime64[ns]\n",
      " 2   location                78041 non-null  object        \n",
      " 3   country                 78041 non-null  object        \n",
      " 4   aircraft_damage         78041 non-null  object        \n",
      " 5   aircraft_category       78041 non-null  object        \n",
      " 6   make                    78041 non-null  object        \n",
      " 7   model                   78041 non-null  object        \n",
      " 8   amateur_built           78041 non-null  object        \n",
      " 9   number_of_engines       78041 non-null  float64       \n",
      " 10  engine_type             78041 non-null  object        \n",
      " 11  purpose_of_flight       78041 non-null  object        \n",
      " 12  total_fatal_injuries    78041 non-null  float64       \n",
      " 13  total_serious_injuries  78041 non-null  float64       \n",
      " 14  total_minor_injuries    78041 non-null  float64       \n",
      " 15  total_uninjured         78041 non-null  float64       \n",
      " 16  weather_condition       78041 non-null  object        \n",
      " 17  broad_phase_of_flight   78041 non-null  object        \n",
      " 18  year                    78041 non-null  int32         \n",
      " 19  month                   78041 non-null  int32         \n",
      " 20  month_name              78041 non-null  object        \n",
      " 21  state_abbr              78041 non-null  object        \n",
      " 22  state_name              78041 non-null  object        \n",
      "dtypes: datetime64[ns](1), float64(5), int32(2), object(15)\n",
      "memory usage: 13.7+ MB\n"
     ]
    }
   ],
   "source": [
    "# Dropping null records and saving the data as df_usa\n",
    "df_usa = usa_data.dropna()\n",
    "df_usa.info()"
   ]
  },
  {
   "cell_type": "markdown",
   "id": "993b0c0e",
   "metadata": {},
   "source": [
    "We can drop the 'month' and 'state_abbr' columns as we've already done feature engineering with them and they are no longer useful."
   ]
  },
  {
   "cell_type": "code",
   "execution_count": 141,
   "id": "dca96306",
   "metadata": {},
   "outputs": [
    {
     "name": "stdout",
     "output_type": "stream",
     "text": [
      "Index(['investigation_type', 'event_date', 'location', 'country',\n",
      "       'aircraft_damage', 'aircraft_category', 'make', 'model',\n",
      "       'amateur_built', 'number_of_engines', 'engine_type',\n",
      "       'purpose_of_flight', 'total_fatal_injuries', 'total_serious_injuries',\n",
      "       'total_minor_injuries', 'total_uninjured', 'weather_condition',\n",
      "       'broad_phase_of_flight', 'year', 'month_name', 'state_name'],\n",
      "      dtype='object')\n"
     ]
    },
    {
     "name": "stderr",
     "output_type": "stream",
     "text": [
      "C:\\Users\\HP\\AppData\\Local\\Temp\\ipykernel_18844\\3052871411.py:2: SettingWithCopyWarning: \n",
      "A value is trying to be set on a copy of a slice from a DataFrame\n",
      "\n",
      "See the caveats in the documentation: https://pandas.pydata.org/pandas-docs/stable/user_guide/indexing.html#returning-a-view-versus-a-copy\n",
      "  df_usa.drop(columns=['month', 'state_abbr'], inplace=True)\n"
     ]
    }
   ],
   "source": [
    "# Drop 'month' and 'state_abbr' columns from df_usa\n",
    "df_usa.drop(columns=['month', 'state_abbr'], inplace=True)\n",
    "\n",
    "# Verify the changes\n",
    "print(df_usa.columns)"
   ]
  },
  {
   "cell_type": "code",
   "execution_count": 144,
   "id": "b38531d9",
   "metadata": {},
   "outputs": [
    {
     "name": "stderr",
     "output_type": "stream",
     "text": [
      "C:\\Users\\HP\\AppData\\Local\\Temp\\ipykernel_18844\\357065407.py:1: SettingWithCopyWarning: \n",
      "A value is trying to be set on a copy of a slice from a DataFrame\n",
      "\n",
      "See the caveats in the documentation: https://pandas.pydata.org/pandas-docs/stable/user_guide/indexing.html#returning-a-view-versus-a-copy\n",
      "  df_usa.drop(columns=['investigation_type', 'event_date', 'location', 'country'], inplace=True)\n"
     ]
    }
   ],
   "source": [
    "df_usa.drop(columns=['investigation_type', 'event_date', 'location', 'country'], inplace=True)"
   ]
  },
  {
   "cell_type": "code",
   "execution_count": 145,
   "id": "ea08b047",
   "metadata": {},
   "outputs": [
    {
     "name": "stdout",
     "output_type": "stream",
     "text": [
      "<class 'pandas.core.frame.DataFrame'>\n",
      "Index: 78041 entries, 0 to 88886\n",
      "Data columns (total 17 columns):\n",
      " #   Column                  Non-Null Count  Dtype  \n",
      "---  ------                  --------------  -----  \n",
      " 0   aircraft_damage         78041 non-null  object \n",
      " 1   aircraft_category       78041 non-null  object \n",
      " 2   make                    78041 non-null  object \n",
      " 3   model                   78041 non-null  object \n",
      " 4   amateur_built           78041 non-null  object \n",
      " 5   number_of_engines       78041 non-null  float64\n",
      " 6   engine_type             78041 non-null  object \n",
      " 7   purpose_of_flight       78041 non-null  object \n",
      " 8   total_fatal_injuries    78041 non-null  float64\n",
      " 9   total_serious_injuries  78041 non-null  float64\n",
      " 10  total_minor_injuries    78041 non-null  float64\n",
      " 11  total_uninjured         78041 non-null  float64\n",
      " 12  weather_condition       78041 non-null  object \n",
      " 13  broad_phase_of_flight   78041 non-null  object \n",
      " 14  year                    78041 non-null  int32  \n",
      " 15  month_name              78041 non-null  object \n",
      " 16  state_name              78041 non-null  object \n",
      "dtypes: float64(5), int32(1), object(11)\n",
      "memory usage: 10.4+ MB\n"
     ]
    }
   ],
   "source": [
    "df_usa.info()"
   ]
  },
  {
   "cell_type": "code",
   "execution_count": 146,
   "id": "1dbe7480",
   "metadata": {},
   "outputs": [
    {
     "data": {
      "text/html": [
       "<div>\n",
       "<style scoped>\n",
       "    .dataframe tbody tr th:only-of-type {\n",
       "        vertical-align: middle;\n",
       "    }\n",
       "\n",
       "    .dataframe tbody tr th {\n",
       "        vertical-align: top;\n",
       "    }\n",
       "\n",
       "    .dataframe thead th {\n",
       "        text-align: right;\n",
       "    }\n",
       "</style>\n",
       "<table border=\"1\" class=\"dataframe\">\n",
       "  <thead>\n",
       "    <tr style=\"text-align: right;\">\n",
       "      <th></th>\n",
       "      <th>aircraft_damage</th>\n",
       "      <th>aircraft_category</th>\n",
       "      <th>make</th>\n",
       "      <th>model</th>\n",
       "      <th>amateur_built</th>\n",
       "      <th>number_of_engines</th>\n",
       "      <th>engine_type</th>\n",
       "      <th>purpose_of_flight</th>\n",
       "      <th>total_fatal_injuries</th>\n",
       "      <th>total_serious_injuries</th>\n",
       "      <th>total_minor_injuries</th>\n",
       "      <th>total_uninjured</th>\n",
       "      <th>weather_condition</th>\n",
       "      <th>broad_phase_of_flight</th>\n",
       "      <th>year</th>\n",
       "      <th>month_name</th>\n",
       "      <th>state_name</th>\n",
       "    </tr>\n",
       "  </thead>\n",
       "  <tbody>\n",
       "    <tr>\n",
       "      <th>0</th>\n",
       "      <td>Destroyed</td>\n",
       "      <td>Unknown</td>\n",
       "      <td>Stinson</td>\n",
       "      <td>108-3</td>\n",
       "      <td>No</td>\n",
       "      <td>1.0</td>\n",
       "      <td>Reciprocating</td>\n",
       "      <td>Personal</td>\n",
       "      <td>2.0</td>\n",
       "      <td>0.00000</td>\n",
       "      <td>0.00000</td>\n",
       "      <td>0.0</td>\n",
       "      <td>Unknown</td>\n",
       "      <td>Cruise</td>\n",
       "      <td>1948</td>\n",
       "      <td>October</td>\n",
       "      <td>Idaho</td>\n",
       "    </tr>\n",
       "    <tr>\n",
       "      <th>1</th>\n",
       "      <td>Destroyed</td>\n",
       "      <td>Unknown</td>\n",
       "      <td>Piper</td>\n",
       "      <td>PA24-180</td>\n",
       "      <td>No</td>\n",
       "      <td>1.0</td>\n",
       "      <td>Reciprocating</td>\n",
       "      <td>Personal</td>\n",
       "      <td>4.0</td>\n",
       "      <td>0.00000</td>\n",
       "      <td>0.00000</td>\n",
       "      <td>0.0</td>\n",
       "      <td>Unknown</td>\n",
       "      <td>Unknown</td>\n",
       "      <td>1962</td>\n",
       "      <td>July</td>\n",
       "      <td>California</td>\n",
       "    </tr>\n",
       "    <tr>\n",
       "      <th>3</th>\n",
       "      <td>Destroyed</td>\n",
       "      <td>Unknown</td>\n",
       "      <td>Rockwell</td>\n",
       "      <td>112</td>\n",
       "      <td>No</td>\n",
       "      <td>1.0</td>\n",
       "      <td>Reciprocating</td>\n",
       "      <td>Personal</td>\n",
       "      <td>2.0</td>\n",
       "      <td>0.00000</td>\n",
       "      <td>0.00000</td>\n",
       "      <td>0.0</td>\n",
       "      <td>IMC</td>\n",
       "      <td>Cruise</td>\n",
       "      <td>1977</td>\n",
       "      <td>June</td>\n",
       "      <td>California</td>\n",
       "    </tr>\n",
       "    <tr>\n",
       "      <th>4</th>\n",
       "      <td>Destroyed</td>\n",
       "      <td>Unknown</td>\n",
       "      <td>Cessna</td>\n",
       "      <td>501</td>\n",
       "      <td>No</td>\n",
       "      <td>1.0</td>\n",
       "      <td>Reciprocating</td>\n",
       "      <td>Personal</td>\n",
       "      <td>1.0</td>\n",
       "      <td>2.00000</td>\n",
       "      <td>0.32809</td>\n",
       "      <td>0.0</td>\n",
       "      <td>VMC</td>\n",
       "      <td>Approach</td>\n",
       "      <td>1979</td>\n",
       "      <td>August</td>\n",
       "      <td>Ohio</td>\n",
       "    </tr>\n",
       "    <tr>\n",
       "      <th>5</th>\n",
       "      <td>Substantial</td>\n",
       "      <td>Airplane</td>\n",
       "      <td>Mcdonnell Douglas</td>\n",
       "      <td>DC9</td>\n",
       "      <td>No</td>\n",
       "      <td>2.0</td>\n",
       "      <td>Turbo Fan</td>\n",
       "      <td>Unknown</td>\n",
       "      <td>0.0</td>\n",
       "      <td>1.69708</td>\n",
       "      <td>1.00000</td>\n",
       "      <td>44.0</td>\n",
       "      <td>VMC</td>\n",
       "      <td>Climb</td>\n",
       "      <td>1979</td>\n",
       "      <td>September</td>\n",
       "      <td>Massachusetts</td>\n",
       "    </tr>\n",
       "  </tbody>\n",
       "</table>\n",
       "</div>"
      ],
      "text/plain": [
       "  aircraft_damage aircraft_category               make     model  \\\n",
       "0       Destroyed           Unknown            Stinson     108-3   \n",
       "1       Destroyed           Unknown              Piper  PA24-180   \n",
       "3       Destroyed           Unknown           Rockwell       112   \n",
       "4       Destroyed           Unknown             Cessna       501   \n",
       "5     Substantial          Airplane  Mcdonnell Douglas       DC9   \n",
       "\n",
       "  amateur_built  number_of_engines    engine_type purpose_of_flight  \\\n",
       "0            No                1.0  Reciprocating          Personal   \n",
       "1            No                1.0  Reciprocating          Personal   \n",
       "3            No                1.0  Reciprocating          Personal   \n",
       "4            No                1.0  Reciprocating          Personal   \n",
       "5            No                2.0      Turbo Fan           Unknown   \n",
       "\n",
       "   total_fatal_injuries  total_serious_injuries  total_minor_injuries  \\\n",
       "0                   2.0                 0.00000               0.00000   \n",
       "1                   4.0                 0.00000               0.00000   \n",
       "3                   2.0                 0.00000               0.00000   \n",
       "4                   1.0                 2.00000               0.32809   \n",
       "5                   0.0                 1.69708               1.00000   \n",
       "\n",
       "   total_uninjured weather_condition broad_phase_of_flight  year month_name  \\\n",
       "0              0.0           Unknown                Cruise  1948    October   \n",
       "1              0.0           Unknown               Unknown  1962       July   \n",
       "3              0.0               IMC                Cruise  1977       June   \n",
       "4              0.0               VMC              Approach  1979     August   \n",
       "5             44.0               VMC                 Climb  1979  September   \n",
       "\n",
       "      state_name  \n",
       "0          Idaho  \n",
       "1     California  \n",
       "3     California  \n",
       "4           Ohio  \n",
       "5  Massachusetts  "
      ]
     },
     "execution_count": 146,
     "metadata": {},
     "output_type": "execute_result"
    }
   ],
   "source": [
    "df_usa.head(5)"
   ]
  },
  {
   "cell_type": "code",
   "execution_count": null,
   "id": "3cb943d1",
   "metadata": {},
   "outputs": [],
   "source": []
  },
  {
   "cell_type": "code",
   "execution_count": 147,
   "id": "d35326ad",
   "metadata": {},
   "outputs": [
    {
     "data": {
      "image/png": "[encoded data removed]",
      "text/plain": [
       "<Figure size 800x500 with 1 Axes>"
      ]
     },
     "metadata": {},
     "output_type": "display_data"
    }
   ],
   "source": [
    "# Plot the count of different aircraft damages\n",
    "plt.figure(figsize=(8, 5))\n",
    "sns.countplot(data=df_usa, x='aircraft_damage', palette='Set2', order=df_usa['aircraft_damage'].value_counts().index)\n",
    "plt.title('Distribution of Aircraft Damage Types')\n",
    "plt.xlabel('Aircraft Damage')\n",
    "plt.ylabel('Count')\n",
    "plt.show()"
   ]
  },
  {
   "cell_type": "code",
   "execution_count": null,
   "id": "b161ce3d",
   "metadata": {},
   "outputs": [],
   "source": []
  },
  {
   "cell_type": "code",
   "execution_count": 148,
   "id": "b65b3e81",
   "metadata": {},
   "outputs": [
    {
     "data": {
      "image/png": "[encoded data removed]",
      "text/plain": [
       "<Figure size 1000x500 with 1 Axes>"
      ]
     },
     "metadata": {},
     "output_type": "display_data"
    }
   ],
   "source": [
    "# Plot the distribution of aircraft categories\n",
    "plt.figure(figsize=(10, 5))\n",
    "sns.countplot(data=df_usa, x='aircraft_category', palette='cool', order=df_usa['aircraft_category'].value_counts().index)\n",
    "plt.title('Distribution of Aircraft Categories')\n",
    "plt.xticks(rotation=45)\n",
    "plt.xlabel('Aircraft Category')\n",
    "plt.ylabel('Count')\n",
    "plt.show()"
   ]
  },
  {
   "cell_type": "code",
   "execution_count": null,
   "id": "6d6a7e78",
   "metadata": {},
   "outputs": [],
   "source": []
  },
  {
   "cell_type": "code",
   "execution_count": 149,
   "id": "f0f07d76",
   "metadata": {},
   "outputs": [
    {
     "data": {
      "image/png": "[encoded data removed]",
      "text/plain": [
       "<Figure size 700x500 with 1 Axes>"
      ]
     },
     "metadata": {},
     "output_type": "display_data"
    }
   ],
   "source": [
    "# Plot weather condition distribution\n",
    "plt.figure(figsize=(7, 5))\n",
    "sns.countplot(data=df_usa, x='weather_condition', palette='muted')\n",
    "plt.title('Weather Condition Distribution')\n",
    "plt.xlabel('Weather Condition')\n",
    "plt.ylabel('Count')\n",
    "plt.show()"
   ]
  },
  {
   "cell_type": "code",
   "execution_count": 150,
   "id": "886addab",
   "metadata": {},
   "outputs": [
    {
     "name": "stderr",
     "output_type": "stream",
     "text": [
      "C:\\Users\\HP\\anaconda3\\Lib\\site-packages\\seaborn\\_oldcore.py:1119: FutureWarning: use_inf_as_na option is deprecated and will be removed in a future version. Convert inf values to NaN before operating instead.\n",
      "  with pd.option_context('mode.use_inf_as_na', True):\n"
     ]
    },
    {
     "data": {
      "image/png": "[encoded data removed]",
      "text/plain": [
       "<Figure size 800x500 with 1 Axes>"
      ]
     },
     "metadata": {},
     "output_type": "display_data"
    }
   ],
   "source": [
    "# Distribution plot for total_fatal_injuries\n",
    "plt.figure(figsize=(8, 5))\n",
    "sns.histplot(df_usa['total_fatal_injuries'], bins=30, kde=True, color='red')\n",
    "plt.title('Distribution of Total Fatal Injuries')\n",
    "plt.xlabel('Total Fatal Injuries')\n",
    "plt.ylabel('Frequency')\n",
    "plt.show()"
   ]
  },
  {
   "cell_type": "markdown",
   "id": "f06981d2",
   "metadata": {},
   "source": [
    "## Bivariate Analysis"
   ]
  },
  {
   "cell_type": "code",
   "execution_count": 151,
   "id": "6e884558",
   "metadata": {},
   "outputs": [
    {
     "data": {
      "image/png": "[encoded data removed]",
      "text/plain": [
       "<Figure size 800x600 with 1 Axes>"
      ]
     },
     "metadata": {},
     "output_type": "display_data"
    }
   ],
   "source": [
    "plt.figure(figsize=(8, 6))\n",
    "sns.boxplot(data=df_usa, x='aircraft_damage', y='total_fatal_injuries', palette='Set1')\n",
    "plt.title('Aircraft Damage vs. Total Fatal Injuries')\n",
    "plt.xlabel('Aircraft Damage')\n",
    "plt.ylabel('Total Fatal Injuries')\n",
    "plt.show()"
   ]
  },
  {
   "cell_type": "code",
   "execution_count": 152,
   "id": "d44b6197",
   "metadata": {},
   "outputs": [
    {
     "data": {
      "image/png": "[encoded data removed]",
      "text/plain": [
       "<Figure size 800x600 with 1 Axes>"
      ]
     },
     "metadata": {},
     "output_type": "display_data"
    }
   ],
   "source": [
    "plt.figure(figsize=(8, 6))\n",
    "sns.boxplot(data=df_usa, x='weather_condition', y='total_fatal_injuries', palette='Set3')\n",
    "plt.title('Weather Condition vs. Total Fatal Injuries')\n",
    "plt.xlabel('Weather Condition')\n",
    "plt.ylabel('Total Fatal Injuries')\n",
    "plt.show()"
   ]
  },
  {
   "cell_type": "code",
   "execution_count": 153,
   "id": "3ea37126",
   "metadata": {},
   "outputs": [
    {
     "data": {
      "image/png": "[encoded data removed]",
      "text/plain": [
       "<Figure size 1200x600 with 1 Axes>"
      ]
     },
     "metadata": {},
     "output_type": "display_data"
    }
   ],
   "source": [
    "plt.figure(figsize=(12, 6))\n",
    "sns.countplot(data=df_usa, x='aircraft_category', hue='broad_phase_of_flight', palette='viridis')\n",
    "plt.title('Aircraft Category vs. Broad Phase of Flight')\n",
    "plt.xlabel('Aircraft Category')\n",
    "plt.ylabel('Count')\n",
    "plt.xticks(rotation=45)\n",
    "plt.legend(title='Phase of Flight', bbox_to_anchor=(1.05, 1))\n",
    "plt.show()"
   ]
  },
  {
   "cell_type": "code",
   "execution_count": 154,
   "id": "c3b7ef85",
   "metadata": {},
   "outputs": [
    {
     "data": {
      "image/png": "[encoded data removed]",
      "text/plain": [
       "<Figure size 1200x800 with 2 Axes>"
      ]
     },
     "metadata": {},
     "output_type": "display_data"
    }
   ],
   "source": [
    "# Filter for top 10 makes\n",
    "top_10_makes = df_usa['make'].value_counts().head(10).index\n",
    "df_top_makes = df_usa[df_usa['make'].isin(top_10_makes)]\n",
    "\n",
    "# Pivot table and heatmap\n",
    "pivot_injuries = df_top_makes.pivot_table(values='total_fatal_injuries', index='state_name', columns='make', aggfunc='sum', fill_value=0)\n",
    "\n",
    "plt.figure(figsize=(12, 8))\n",
    "sns.heatmap(pivot_injuries, cmap='YlGnBu', annot=True, fmt='g')\n",
    "plt.title('Total Fatal Injuries by State and Make (Top 10 Makes)')\n",
    "plt.xlabel('Make')\n",
    "plt.ylabel('State')\n",
    "plt.show()"
   ]
  },
  {
   "cell_type": "code",
   "execution_count": null,
   "id": "9a3aef38",
   "metadata": {},
   "outputs": [
    {
     "name": "stderr",
     "output_type": "stream",
     "text": [
      "C:\\Users\\HP\\anaconda3\\Lib\\site-packages\\seaborn\\_oldcore.py:1119: FutureWarning: use_inf_as_na option is deprecated and will be removed in a future version. Convert inf values to NaN before operating instead.\n",
      "  with pd.option_context('mode.use_inf_as_na', True):\n",
      "C:\\Users\\HP\\anaconda3\\Lib\\site-packages\\seaborn\\_oldcore.py:1119: FutureWarning: use_inf_as_na option is deprecated and will be removed in a future version. Convert inf values to NaN before operating instead.\n",
      "  with pd.option_context('mode.use_inf_as_na', True):\n",
      "C:\\Users\\HP\\anaconda3\\Lib\\site-packages\\seaborn\\_oldcore.py:1119: FutureWarning: use_inf_as_na option is deprecated and will be removed in a future version. Convert inf values to NaN before operating instead.\n",
      "  with pd.option_context('mode.use_inf_as_na', True):\n",
      "C:\\Users\\HP\\anaconda3\\Lib\\site-packages\\seaborn\\_oldcore.py:1119: FutureWarning: use_inf_as_na option is deprecated and will be removed in a future version. Convert inf values to NaN before operating instead.\n",
      "  with pd.option_context('mode.use_inf_as_na', True):\n"
     ]
    }
   ],
   "source": [
    "# Pairplot for injury data, categorized by aircraft category\n",
    "sns.pairplot(df_usa, vars=['total_fatal_injuries', 'total_serious_injuries', 'total_minor_injuries', 'total_uninjured'], hue='aircraft_category', palette='Set2', diag_kind='kde')\n",
    "plt.suptitle('Pairplot of Injury Variables by Aircraft Category', y=1.02)\n",
    "plt.show()"
   ]
  },
  {
   "cell_type": "code",
   "execution_count": null,
   "id": "96b5a799",
   "metadata": {},
   "outputs": [],
   "source": []
  }
 ],
 "metadata": {
  "kernelspec": {
   "display_name": "Python 3 (ipykernel)",
   "language": "python",
   "name": "python3"
  },
  "language_info": {
   "codemirror_mode": {
    "name": "ipython",
    "version": 3
   },
   "file_extension": ".py",
   "mimetype": "text/x-python",
   "name": "python",
   "nbconvert_exporter": "python",
   "pygments_lexer": "ipython3",
   "version": "3.11.7"
  }
 },
 "nbformat": 4,
 "nbformat_minor": 5
}
